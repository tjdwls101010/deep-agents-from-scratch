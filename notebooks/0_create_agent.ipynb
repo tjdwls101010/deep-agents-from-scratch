{
    "cells": [
        {
            "cell_type": "markdown",
            "id": "8b7114f7-abee-4b4f-a9bf-fbd7ac553357",
            "metadata": {},
            "source": [
                "**환경 변수 로드**: 첫 번째 모듈의 \"Getting setup\"을 참조하세요. `dotenv` [문서](https://pypi.org/project/python-dotenv/)는 `../.env` 파일을 찾습니다. 파일을 찾으면 현재 셸의 변수를 덮어쓰며 환경 변수를 로드합니다. 파일을 찾지 못하면 현재 셸의 변수를 사용합니다."
            ]
        },
        {
            "cell_type": "code",
            "execution_count": 29,
            "id": "38cb48f0",
            "metadata": {},
            "outputs": [
                {
                    "name": "stdout",
                    "output_type": "stream",
                    "text": [
                        "The autoreload extension is already loaded. To reload it, use:\n",
                        "  %reload_ext autoreload\n"
                    ]
                }
            ],
            "source": [
                "import os\n",
                "\n",
                "from dotenv import load_dotenv\n",
                "\n",
                "load_dotenv(os.path.join(\"..\", \".env\"), override=True)\n",
                "\n",
                "# automatically reload all modules before executing new code. The captures changes in local packages.\n",
                "%load_ext autoreload\n",
                "%autoreload 2"
            ]
        },
        {
            "attachments": {},
            "cell_type": "markdown",
            "id": "09dd8911",
            "metadata": {
                "vscode": {
                    "languageId": "plaintext"
                }
            },
            "source": [
                "## ReAct 에이전트 생성 - 사전 구축된 버전\n",
                "\n",
                "<img src=\"./assets/agent_header.png\" width=\"800\" style=\"display:block; margin-left:0;\">\n",
                "\n",
                "이 과정에서는 [Deep Agent](https://blog.langchain.com/deep-agents/)를 구축할 것입니다. 코드를 크게 단순화하는 LangGraph의 '사전 구축된' 에이전트 추상화를 기반으로 구축할 것입니다. 이 수업에서는 사전 구축된 ReAct 에이전트에 대해 배울 것입니다. 학습할 내용은 다음과 같습니다:\n",
                "- ReAct 에이전트란 무엇인가\n",
                "- 우리 구현의 기능과 더 알아볼 수 있는 곳\n",
                "\t- 도구를 사용한 에이전트 구축\n",
                "\t- 그래프, 상태 및 메시지\n",
                "\t- 도구를 사용한 상태 접근 및 수정\n",
                "\t- <span style=\"font-size:0.8em;\">🪝</span> 훅과 구조화된 응답\n"
            ]
        },
        {
            "cell_type": "markdown",
            "id": "b96d31dc-3ffb-4afb-85ef-5e10f9a85f24",
            "metadata": {},
            "source": [
                "### ReAct 에이전트란 무엇인가\n",
                "\n",
                "\n",
                "<img src=\"./assets/agent.png\"\n",
                "\t style=\"float:left; max-width:300px; height:auto; margin:0 1rem 0.5rem 0;\">\n",
                "<div style=\"max-width: 1250px;\">\n",
                "\t\n",
                "LangGraph의 오픈소스 `create_react_agent` ([여기 참조](https://langchain-ai.github.io/langgraph/reference/agents/#langgraph.prebuilt.chat_agent_executor.create_react_agent)) 추상화를 사용할 것입니다. **ReAct 에이전트**는 \"추론과 행동\"(ReAct) 프레임워크를 사용하여 사고의 연쇄(CoT) 추론과 외부 도구 사용을 결합하는 AI 에이전트입니다. 이는 [ReAct: Synergizing Reasoning and Acting in Language Models](https://arxiv.org/abs/2210.03629) 논문으로 유명해졌습니다.\n",
                "\n",
                "이 에이전트는 세 가지 구성 요소로 이루어져 있습니다: 대형 언어 모델(LLM), 사용할 수 있는 도구 세트, 지침을 제공하는 프롬프트입니다.\n",
                "\n",
                "LLM은 루프에서 작동합니다. 각 반복에서 사용 가능한 도구 목록을 포함한 컨텍스트를 검토하고, 도구를 호출해야 하는지 결정합니다. 호출할 도구를 선택하고 도구 호출을 형성합니다. 이것은 실행을 위해 도구 노드로 전송됩니다. 도구 노드는 도구를 실행하고 결과(관찰)를 LLM으로 다시 보냅니다. LLM은 관찰을 받고 그 관찰을 사용하여 다음 행동을 결정합니다. 에이전트가 더 이상 도구를 호출할 필요가 없다고 결정할 때까지 루프가 계속됩니다.\n",
                "</div>\n",
                "\n",
                "<div style=\"clear:both;\"></div>\n",
                "\n",
                ">  참고: `create_react_agent`는 곧 출시될 V1로 이동 중입니다! LangChain에 포함되며 이름이 간단히 `create_agent`로 변경됩니다."
            ]
        },
        {
            "attachments": {},
            "cell_type": "markdown",
            "id": "038dca59",
            "metadata": {},
            "source": [
                "### LangGraph 사전 구축된 `create_react_agent`의 주요 기능\n",
                "\n",
                "`create_react_agent` 추상화와 함께 제공되는 기능들입니다. 이 과정에서 모든 기능을 사용하지는 않지만, 우리 과정을 구축하기 위해 `create_react_agent` 사용을 동기부여합니다 (더 알아보기 [여기](https://langchain-ai.github.io/langgraph/agents/overview/#what-is-an-agent)):\n",
                "\n",
                "- [메모리 통합](../how-tos/memory/add-memory.md): _단기_(세션 기반) 및 _장기_(세션 간 지속) 메모리에 대한 네이티브 지원으로 챗봇과 어시스턴트의 상태 유지 동작을 가능하게 합니다.\n",
                "- [인간 중심 루프 제어](../concepts/human_in_the_loop.md): 실행이 인간의 피드백을 기다리기 위해 _무기한_ 일시 중지될 수 있습니다—실시간 상호작용에 제한된 웹소켓 기반 솔루션과 달리. 이를 통해 워크플로우의 어느 지점에서든 비동기 승인, 수정 또는 개입이 가능합니다.\n",
                "- [스트리밍 지원](../how-tos/streaming.md): 에이전트 상태, 모델 토큰, 도구 출력 또는 결합된 스트림의 실시간 스트리밍.\n",
                "- [배포 도구](../tutorials/langgraph-platform/local-server.md): 인프라 없는 배포 도구를 포함합니다. [**LangGraph Platform**](https://langchain-ai.github.io/langgraph/concepts/langgraph_platform/)은 테스트, 디버깅 및 배포를 지원합니다.\n",
                "  - [Studio](https://langchain-ai.github.io/langgraph/concepts/langgraph_studio/): 워크플로우를 검사하고 디버깅하기 위한 시각적 IDE.\n",
                "  - [LangSmith](https://smith.langchain.com/): 추적 및 평가 도구.\n",
                "  - 프로덕션을 위한 여러 [배포 옵션](https://langchain-ai.github.io/langgraph/concepts/deployment_options.md) 지원.\n",
                "\n",
                "`create-react-agent`는 매우 정교하며 많은 입력 형식을 받아들이고 많은 사용자 정의를 허용합니다. 간단한 에이전트-도구 루프가 될 수 있거나, 사전/사후 훅 및/또는 구조화된 출력으로 사용자 정의할 수 있습니다.\n",
                "\n",
                "<div style=\"display:flex; justify-content:center; align-items:flex-end; gap:40px;\">\n",
                "\n",
                "  <figure style=\"margin:0; text-align:center; width:250px;\">\n",
                "\t<img src=\"./assets/simple_agent.png\" style=\"max-height:350px; width:auto; display:block; margin:0 auto;\">  \n",
                "\t<figcaption style=\"font-weight:bold; font-size:1.1em; margin-top:8px;\">간단한 에이전트</figcaption>\n",
                "  </figure>\n",
                "\n",
                "  <figure style=\"margin:0; text-align:center; width:250px;\">\n",
                "\t<img src=\"./assets/complex_agent.png\" style=\"max-height:350px; width:auto; display:block; margin:0 auto;\">  \n",
                "\t<figcaption style=\"font-weight:bold; font-size:1.1em; margin-top:8px;\">복잡한 에이전트</figcaption>\n",
                "  </figure>\n",
                "\n",
                "</div>\n",
                "</div>\n",
                "<br>\n",
                "\n",
                "이 과정에서는 간단한 형식을 사용할 것입니다—과정 후반에 하위 에이전트 <span style=\"font-size:20px;\">🤖 🤖 🤖</span>를 추가할 것입니다!   \n",
                "\n",
                "  "
            ]
        },
        {
            "cell_type": "markdown",
            "id": "ee33aed8-3c03-4fe3-b2ba-ae448ad86111",
            "metadata": {},
            "source": [
                "#### 도구를 사용한 에이전트 구축\n",
                "\n",
                "시작하기 위해 간단한 계산기 도구를 사용한 에이전트를 생성해보겠습니다. 구성 방식을 확인한 후 더 자세한 내용을 살펴보겠습니다.\n"
            ]
        },
        {
            "cell_type": "code",
            "execution_count": 30,
            "id": "77dbbaf1-a3d2-4094-80c6-55dbb1632f21",
            "metadata": {},
            "outputs": [],
            "source": [
                "from typing import Annotated, List, Literal, Union\n",
                "\n",
                "from langchain_core.messages import ToolMessage\n",
                "from langchain_core.tools import InjectedToolCallId, tool\n",
                "from langgraph.prebuilt import InjectedState\n",
                "from langgraph.types import Command\n",
                "\n",
                "\n",
                "@tool\n",
                "def calculator(\n",
                "\toperation: Literal[\"add\",\"subtract\",\"multiply\",\"divide\"],\n",
                "\ta: Union[int, float],\n",
                "\tb: Union[int, float],\n",
                ") -> Union[int, float]:\n",
                "\t\"\"\"Define a two-input calculator tool.\n",
                "\n",
                "\tArg:\n",
                "\t\toperation (str): The operation to perform ('add', 'subtract', 'multiply', 'divide').\n",
                "\t\ta (float or int): The first number.\n",
                "\t\tb (float or int): The second number.\n",
                "\t\t\n",
                "\tReturns:\n",
                "\t\tresult (float or int): the result of the operation\n",
                "\tExample\n",
                "\t\tDivide: result   = a / b\n",
                "\t\tSubtract: result = a - b\n",
                "\t\"\"\"\n",
                "\tif operation == 'divide' and b == 0:\n",
                "\t\treturn {\"error\": \"Division by zero is not allowed.\"}\n",
                "\n",
                "\t# Perform calculation\n",
                "\tif operation == 'add':\n",
                "\t\tresult = a + b\n",
                "\telif operation == 'subtract':\n",
                "\t\tresult = a - b\n",
                "\telif operation == 'multiply':\n",
                "\t\tresult = a * b\n",
                "\telif operation == 'divide':\n",
                "\t\tresult = a / b\n",
                "\telse: \n",
                "\t\tresult = \"unknown operation\"\n",
                "\treturn result\n"
            ]
        },
        {
            "cell_type": "code",
            "execution_count": 31,
            "id": "95c0fc53",
            "metadata": {},
            "outputs": [
                {
                    "name": "stderr",
                    "output_type": "stream",
                    "text": [
                        "E0000 00:00:1760676545.381043  488840 alts_credentials.cc:93] ALTS creds ignored. Not running on GCP and untrusted ALTS is not enabled.\n"
                    ]
                },
                {
                    "data": {
                        "image/png": "[encoded data removed]",
                        "text/plain": [
                            "<IPython.core.display.Image object>"
                        ]
                    },
                    "metadata": {},
                    "output_type": "display_data"
                }
            ],
            "source": [
                "from IPython.display import Image, display\n",
                "from langchain.chat_models import init_chat_model\n",
                "from langchain_core.tools import tool\n",
                "from langgraph.prebuilt import create_react_agent\n",
                "from utils import format_messages\n",
                "\n",
                "# Create agent using create_react_agent directly\n",
                "\n",
                "SYSTEM_PROMPT = \"You are a helpful arithmetic assistant who is an expert at using a calculator.\"\n",
                "\n",
                "model = init_chat_model(model=\"google_genai:gemini-2.5-flash\", temperature=0.0)\n",
                "tools = [calculator]\n",
                "\n",
                "# Create agent\n",
                "agent = create_react_agent(\n",
                "\tmodel,\n",
                "\ttools,\n",
                "\tprompt=SYSTEM_PROMPT,\n",
                "\t#state_schema=AgentState,  # default\n",
                ").with_config({\"recursion_limit\": 20})  #recursion_limit limits the number of steps the agent will run\n",
                "\n",
                "# Show the agent\n",
                "display(Image(agent.get_graph(xray=True).draw_mermaid_png()))"
            ]
        },
        {
            "cell_type": "markdown",
            "id": "abf73e64-eb00-4d13-89cb-5857e4861f34",
            "metadata": {},
            "source": [
                "### 그래프, 상태 및 메시지\n",
                "곧 에이전트를 실행할 것이지만, 그래프에 대해 조금 더 자세히 살펴보겠습니다.\n",
                "세부 사항을 보고 싶다면 `create_react_agent`를 구현하는 코드를 [여기](https://github.com/langchain-ai/langgraph/blob/c37c9cbab3287f0988fabe2b853569a23960e3db/libs/prebuilt/langgraph/prebuilt/chat_agent_executor.py)에서 확인할 수 있습니다. 이것의 간단한 버전을 직접 구축해보고 싶다면 [Foundation: Introduction to LangGraph, Module 1, Lesson 6, Agent](https://academy.langchain.com/courses/take/intro-to-langgraph/lessons/58239232-lesson-6-agent)를 확인해보세요.\n",
                "\n",
                "**에이전트 정의**: 위에서 했던 것처럼 에이전트를 정의할 때 제공하는 것들: 모델, 하나 이상의 도구, \"시스템\" 프롬프트, 그리고 기본적으로 <a href=\"https://github.com/langchain-ai/langgraph/blob/e365b2b8bd695e03d758b19ff109152b2e342a87/libs/prebuilt/langgraph/prebuilt/chat_agent_executor.py#L62-L69\">\n",
                "  <code style=\"color:#0366d6;\">AgentState</code>\n",
                "</a>인 상태 스키마로 주로 메시지 목록입니다. ([호출 세부사항은 여기](https://langchain-ai.github.io/langgraph/reference/agents/#langgraph.prebuilt.chat_agent_executor.create_react_agent))\n",
                "내부적으로 이것은 위에 표시된 LangGraph 그래프를 정의하고 컴파일하는 것입니다. 중요한 세부사항은 도구 노드가 또 다른 사전 구축된 항목인 `ToolNode`라는 것입니다. [여기](https://github.com/langchain-ai/langgraph/blob/e365b2b8bd695e03d758b19ff109152b2e342a87/libs/prebuilt/langgraph/prebuilt/tool_node.py#L239-L293)에 설명되어 있습니다. 도구 노드는 LLM의 메시지에서 식별된 모든 도구를 실행하고 결과를 반환합니다.\n",
                "\n",
                "**에이전트 호출:** \n",
                "에이전트를 호출하고 결과를 확인해보겠습니다!"
            ]
        },
        {
            "cell_type": "code",
            "execution_count": 32,
            "id": "3d2648f0",
            "metadata": {},
            "outputs": [
                {
                    "data": {
                        "text/html": [
                            "<pre style=\"white-space:pre;overflow-x:auto;line-height:normal;font-family:Menlo,'DejaVu Sans Mono',consolas,'Courier New',monospace\"><span style=\"color: #000080; text-decoration-color: #000080\">╭─────────────────────────────────────────────────── 🧑 Human ────────────────────────────────────────────────────╮</span>\n",
                            "<span style=\"color: #000080; text-decoration-color: #000080\">│</span> What is 3.1 * 4.2?                                                                                              <span style=\"color: #000080; text-decoration-color: #000080\">│</span>\n",
                            "<span style=\"color: #000080; text-decoration-color: #000080\">╰─────────────────────────────────────────────────────────────────────────────────────────────────────────────────╯</span>\n",
                            "</pre>\n"
                        ],
                        "text/plain": [
                            "\u001b[34m╭─\u001b[0m\u001b[34m──────────────────────────────────────────────────\u001b[0m\u001b[34m 🧑 Human \u001b[0m\u001b[34m───────────────────────────────────────────────────\u001b[0m\u001b[34m─╮\u001b[0m\n",
                            "\u001b[34m│\u001b[0m What is 3.1 * 4.2?                                                                                              \u001b[34m│\u001b[0m\n",
                            "\u001b[34m╰─────────────────────────────────────────────────────────────────────────────────────────────────────────────────╯\u001b[0m\n"
                        ]
                    },
                    "metadata": {},
                    "output_type": "display_data"
                },
                {
                    "data": {
                        "text/html": [
                            "<pre style=\"white-space:pre;overflow-x:auto;line-height:normal;font-family:Menlo,'DejaVu Sans Mono',consolas,'Courier New',monospace\"><span style=\"color: #c0c0c0; text-decoration-color: #c0c0c0\">╭───────────────────────────────────────────────────── 📝 AI ─────────────────────────────────────────────────────╮</span>\n",
                            "<span style=\"color: #c0c0c0; text-decoration-color: #c0c0c0\">│</span>                                                                                                                 <span style=\"color: #c0c0c0; text-decoration-color: #c0c0c0\">│</span>\n",
                            "<span style=\"color: #c0c0c0; text-decoration-color: #c0c0c0\">│</span>                                                                                                                 <span style=\"color: #c0c0c0; text-decoration-color: #c0c0c0\">│</span>\n",
                            "<span style=\"color: #c0c0c0; text-decoration-color: #c0c0c0\">│</span> 🔧 Tool Call: calculator                                                                                        <span style=\"color: #c0c0c0; text-decoration-color: #c0c0c0\">│</span>\n",
                            "<span style=\"color: #c0c0c0; text-decoration-color: #c0c0c0\">│</span>    Args: {                                                                                                      <span style=\"color: #c0c0c0; text-decoration-color: #c0c0c0\">│</span>\n",
                            "<span style=\"color: #c0c0c0; text-decoration-color: #c0c0c0\">│</span>   \"operation\": \"multiply\",                                                                                      <span style=\"color: #c0c0c0; text-decoration-color: #c0c0c0\">│</span>\n",
                            "<span style=\"color: #c0c0c0; text-decoration-color: #c0c0c0\">│</span>   \"a\": 3.1,                                                                                                     <span style=\"color: #c0c0c0; text-decoration-color: #c0c0c0\">│</span>\n",
                            "<span style=\"color: #c0c0c0; text-decoration-color: #c0c0c0\">│</span>   \"b\": 4.2                                                                                                      <span style=\"color: #c0c0c0; text-decoration-color: #c0c0c0\">│</span>\n",
                            "<span style=\"color: #c0c0c0; text-decoration-color: #c0c0c0\">│</span> }                                                                                                               <span style=\"color: #c0c0c0; text-decoration-color: #c0c0c0\">│</span>\n",
                            "<span style=\"color: #c0c0c0; text-decoration-color: #c0c0c0\">│</span>    ID: c5ab22bc-5816-44c3-bd44-ce532188936e                                                                     <span style=\"color: #c0c0c0; text-decoration-color: #c0c0c0\">│</span>\n",
                            "<span style=\"color: #c0c0c0; text-decoration-color: #c0c0c0\">╰─────────────────────────────────────────────────────────────────────────────────────────────────────────────────╯</span>\n",
                            "</pre>\n"
                        ],
                        "text/plain": [
                            "\u001b[37m╭─\u001b[0m\u001b[37m────────────────────────────────────────────────────\u001b[0m\u001b[37m 📝 AI \u001b[0m\u001b[37m────────────────────────────────────────────────────\u001b[0m\u001b[37m─╮\u001b[0m\n",
                            "\u001b[37m│\u001b[0m                                                                                                                 \u001b[37m│\u001b[0m\n",
                            "\u001b[37m│\u001b[0m                                                                                                                 \u001b[37m│\u001b[0m\n",
                            "\u001b[37m│\u001b[0m 🔧 Tool Call: calculator                                                                                        \u001b[37m│\u001b[0m\n",
                            "\u001b[37m│\u001b[0m    Args: {                                                                                                      \u001b[37m│\u001b[0m\n",
                            "\u001b[37m│\u001b[0m   \"operation\": \"multiply\",                                                                                      \u001b[37m│\u001b[0m\n",
                            "\u001b[37m│\u001b[0m   \"a\": 3.1,                                                                                                     \u001b[37m│\u001b[0m\n",
                            "\u001b[37m│\u001b[0m   \"b\": 4.2                                                                                                      \u001b[37m│\u001b[0m\n",
                            "\u001b[37m│\u001b[0m }                                                                                                               \u001b[37m│\u001b[0m\n",
                            "\u001b[37m│\u001b[0m    ID: c5ab22bc-5816-44c3-bd44-ce532188936e                                                                     \u001b[37m│\u001b[0m\n",
                            "\u001b[37m╰─────────────────────────────────────────────────────────────────────────────────────────────────────────────────╯\u001b[0m\n"
                        ]
                    },
                    "metadata": {},
                    "output_type": "display_data"
                },
                {
                    "data": {
                        "text/html": [
                            "<pre style=\"white-space:pre;overflow-x:auto;line-height:normal;font-family:Menlo,'DejaVu Sans Mono',consolas,'Courier New',monospace\"><span style=\"color: #808000; text-decoration-color: #808000\">╭──────────────────────────────────────────────── 🔧 Tool Output ─────────────────────────────────────────────────╮</span>\n",
                            "<span style=\"color: #808000; text-decoration-color: #808000\">│</span> 13.020000000000001                                                                                              <span style=\"color: #808000; text-decoration-color: #808000\">│</span>\n",
                            "<span style=\"color: #808000; text-decoration-color: #808000\">╰─────────────────────────────────────────────────────────────────────────────────────────────────────────────────╯</span>\n",
                            "</pre>\n"
                        ],
                        "text/plain": [
                            "\u001b[33m╭─\u001b[0m\u001b[33m───────────────────────────────────────────────\u001b[0m\u001b[33m 🔧 Tool Output \u001b[0m\u001b[33m────────────────────────────────────────────────\u001b[0m\u001b[33m─╮\u001b[0m\n",
                            "\u001b[33m│\u001b[0m 13.020000000000001                                                                                              \u001b[33m│\u001b[0m\n",
                            "\u001b[33m╰─────────────────────────────────────────────────────────────────────────────────────────────────────────────────╯\u001b[0m\n"
                        ]
                    },
                    "metadata": {},
                    "output_type": "display_data"
                },
                {
                    "data": {
                        "text/html": [
                            "<pre style=\"white-space:pre;overflow-x:auto;line-height:normal;font-family:Menlo,'DejaVu Sans Mono',consolas,'Courier New',monospace\"><span style=\"color: #c0c0c0; text-decoration-color: #c0c0c0\">╭───────────────────────────────────────────────────── 📝 AI ─────────────────────────────────────────────────────╮</span>\n",
                            "<span style=\"color: #c0c0c0; text-decoration-color: #c0c0c0\">│</span> The product of 3.1 and 4.2 is 13.02.                                                                            <span style=\"color: #c0c0c0; text-decoration-color: #c0c0c0\">│</span>\n",
                            "<span style=\"color: #c0c0c0; text-decoration-color: #c0c0c0\">╰─────────────────────────────────────────────────────────────────────────────────────────────────────────────────╯</span>\n",
                            "</pre>\n"
                        ],
                        "text/plain": [
                            "\u001b[37m╭─\u001b[0m\u001b[37m────────────────────────────────────────────────────\u001b[0m\u001b[37m 📝 AI \u001b[0m\u001b[37m────────────────────────────────────────────────────\u001b[0m\u001b[37m─╮\u001b[0m\n",
                            "\u001b[37m│\u001b[0m The product of 3.1 and 4.2 is 13.02.                                                                            \u001b[37m│\u001b[0m\n",
                            "\u001b[37m╰─────────────────────────────────────────────────────────────────────────────────────────────────────────────────╯\u001b[0m\n"
                        ]
                    },
                    "metadata": {},
                    "output_type": "display_data"
                }
            ],
            "source": [
                "# Example usage\n",
                "result1 = agent.invoke(\n",
                "\t{\n",
                "\t\t\"messages\": [\n",
                "\t\t\t{\n",
                "\t\t\t\t\"role\": \"user\",\n",
                "\t\t\t\t\"content\": \"What is 3.1 * 4.2?\",\n",
                "\t\t\t}\n",
                "\t\t],\n",
                "\t}\n",
                ")\n",
                "\n",
                "format_messages(result1[\"messages\"])"
            ]
        },
        {
            "cell_type": "markdown",
            "id": "8b437e65-8b4f-48ec-9ab5-b988fe6b536d",
            "metadata": {},
            "source": [
                "**에이전트 호출:** \n",
                "시퀀스 다이어그램은 모델이 호출될 때 일어나는 일을 보는 좋은 방법입니다.\n",
                "\n",
                "<div style=\"display:none\">\n",
                "\t향후를 위해 mermaid 코드가 여기에 저장됨\n",
                "```mermaid\n",
                "sequenceDiagram\n",
                "\tparticipant U as User\n",
                "\tparticipant A as LLM\n",
                "\tparticipant T as Tools\n",
                "\tNote over A: System message<br/>\"You are a helpful assistant...\"\n",
                "\tU->>A: Initial input,<br/>\"What is 3.1 * 4.2?\"\n",
                "\tloop while tool_calls present\n",
                "\t\tA->>T: AIMessage(id=\"call_123\", tool_calls=[...])\n",
                "\t\tT-->>A: ToolMessage(tool_call_id=\"call_123\", content=\"xx\")\n",
                "\tend\n",
                "\tA->>U: Return final state\n",
                "```\n",
                "</div> \n",
                "\n",
                "<img src=\"./assets/agent_sequence_diagram.png\"\n",
                "\t style=\"float:left; max-width:500px; height:auto; margin:0 1rem 0.5rem 0;\">\n",
                "<div style=\"max-width: 1100px;\">\n",
                "예시에서 사용자 입력은 \"What is 3.1 * 4.2?\"입니다. 이것이 시스템 프롬프트와 도구 설명과 함께 LLM으로 전송됩니다.  \n",
                "<br/>\n",
                "<p style=\"margin-bottom:0; margin-top:5px;\">LLM은 계산기 도구를 호출해야 한다고 결정합니다. <br/> `messages`에 `AIMessage`를 추가합니다:</p>\n",
                "<pre style=\"font-size:0.85em; margin-top:5px; margin-bottom:0;\">\n",
                "<code class=\"language-python\">AIMessage(\n",
                "\tcontent=\"\",\n",
                "\ttool_calls=[{\"id\": \"call_123\",\n",
                "\t\t\t\t \"name\": \"calculator\",\n",
                "\t\t\t\t \"args\": {\"a\": 3.1, \"b\": 4.2, \"operation\": \"multiply\"}}])</code></pre>   \n",
                "</code></pre>\n",
                "<br/>\n",
                "<p style=\"margin-bottom:0;\">도구 노드는 AIMessage를 받고 모든 도구 호출을 처리합니다. tool_call_ids를 추적합니다. `messages`에 ToolMessage로 응답합니다: </p>\n",
                "<pre style=\"font-size:0.85em; margin-top:5px; margin-bottom:10px;\">\n",
                "<code class=\"language-python\">ToolMessage(\n",
                "\tcontent=\"13.02\",\t\t # 도구 실행의 결과\n",
                "\ttool_call_id=\"call_123\")  # AIMessage.tool_calls의 id와 일치\n",
                "</code></pre>\n",
                "LLM은 `messages`의 응답을 검토하고 완료되었다고 결정하며 사용자에게 `AIMessage`를 형성합니다.\n",
                "\n",
                "</div>\n",
                "\n",
                "<div style=\"clear:both;\"></div>"
            ]
        },
        {
            "cell_type": "markdown",
            "id": "784297e4-a617-41f6-a300-9ff06598c023",
            "metadata": {},
            "source": [
                "[LangSmith의 추적](https://smith.langchain.com/public/3d2062e3-8713-4510-a797-801abe44d1f7/r)을 살펴보겠습니다. 주목할 점들:\n",
                "- LLM 호출의 메타데이터에서 'calculator' 도구 설명을 볼 수 있습니다.\n",
                "- 모델의 응답은 인수를 포함한 도구 호출입니다.\n",
                "- LLM의 최종 호출에서 도구 노드가 제공한 일치하는 tool_call_id를 확인하세요."
            ]
        },
        {
            "cell_type": "markdown",
            "id": "0378644e-7630-40f7-946f-00f4e5d3a912",
            "metadata": {},
            "source": [
                "#### 직접 시도해보기\n",
                "잠시 시간을 내어 직접 시도해보세요. 쿼리를 실행하고 LangSmith에서 확인하여 기대와 일치하는지 확인하세요. 계산기를 확장해보세요—예를 들어 제곱 함수를 추가해보세요."
            ]
        },
        {
            "cell_type": "code",
            "execution_count": 33,
            "id": "8fb3e30b-dec9-43a4-a340-6aee9370bf80",
            "metadata": {},
            "outputs": [
                {
                    "data": {
                        "text/html": [
                            "<pre style=\"white-space:pre;overflow-x:auto;line-height:normal;font-family:Menlo,'DejaVu Sans Mono',consolas,'Courier New',monospace\"><span style=\"color: #000080; text-decoration-color: #000080\">╭─────────────────────────────────────────────────── 🧑 Human ────────────────────────────────────────────────────╮</span>\n",
                            "<span style=\"color: #000080; text-decoration-color: #000080\">│</span> What is ...?                                                                                                    <span style=\"color: #000080; text-decoration-color: #000080\">│</span>\n",
                            "<span style=\"color: #000080; text-decoration-color: #000080\">╰─────────────────────────────────────────────────────────────────────────────────────────────────────────────────╯</span>\n",
                            "</pre>\n"
                        ],
                        "text/plain": [
                            "\u001b[34m╭─\u001b[0m\u001b[34m──────────────────────────────────────────────────\u001b[0m\u001b[34m 🧑 Human \u001b[0m\u001b[34m───────────────────────────────────────────────────\u001b[0m\u001b[34m─╮\u001b[0m\n",
                            "\u001b[34m│\u001b[0m What is ...?                                                                                                    \u001b[34m│\u001b[0m\n",
                            "\u001b[34m╰─────────────────────────────────────────────────────────────────────────────────────────────────────────────────╯\u001b[0m\n"
                        ]
                    },
                    "metadata": {},
                    "output_type": "display_data"
                },
                {
                    "data": {
                        "text/html": [
                            "<pre style=\"white-space:pre;overflow-x:auto;line-height:normal;font-family:Menlo,'DejaVu Sans Mono',consolas,'Courier New',monospace\"><span style=\"color: #c0c0c0; text-decoration-color: #c0c0c0\">╭───────────────────────────────────────────────────── 📝 AI ─────────────────────────────────────────────────────╮</span>\n",
                            "<span style=\"color: #c0c0c0; text-decoration-color: #c0c0c0\">│</span> Please provide the numbers and the operation you would like me to perform.                                      <span style=\"color: #c0c0c0; text-decoration-color: #c0c0c0\">│</span>\n",
                            "<span style=\"color: #c0c0c0; text-decoration-color: #c0c0c0\">╰─────────────────────────────────────────────────────────────────────────────────────────────────────────────────╯</span>\n",
                            "</pre>\n"
                        ],
                        "text/plain": [
                            "\u001b[37m╭─\u001b[0m\u001b[37m────────────────────────────────────────────────────\u001b[0m\u001b[37m 📝 AI \u001b[0m\u001b[37m────────────────────────────────────────────────────\u001b[0m\u001b[37m─╮\u001b[0m\n",
                            "\u001b[37m│\u001b[0m Please provide the numbers and the operation you would like me to perform.                                      \u001b[37m│\u001b[0m\n",
                            "\u001b[37m╰─────────────────────────────────────────────────────────────────────────────────────────────────────────────────╯\u001b[0m\n"
                        ]
                    },
                    "metadata": {},
                    "output_type": "display_data"
                }
            ],
            "source": [
                "# Try your own \n",
                "result = agent.invoke(\n",
                "\t{\n",
                "\t\t\"messages\": [\n",
                "\t\t\t{\n",
                "\t\t\t\t\"role\": \"user\",\n",
                "\t\t\t\t\"content\": \"What is ...?\",\n",
                "\t\t\t}\n",
                "\t\t],\n",
                "\t}\n",
                ")\n",
                "\n",
                "format_messages(result[\"messages\"])"
            ]
        },
        {
            "cell_type": "markdown",
            "id": "146bef29-b1f2-45e1-883b-5fc51f6d54df",
            "metadata": {},
            "source": [
                "### 도구 내에서 상태 접근 및 수정\n",
                "#### 상태\n",
                "LangGraph의 좋은 기능 중 하나는 상태입니다. 그래프는 각 노드가 그래프 지속 시간 동안 사용할 수 있고 장기 저장소에 지속될 수 있는 타입이 지정된 데이터 구조를 가집니다. 이를 사용하여 노드 간에 공유할 정보를 저장하고, 그래프를 디버깅하며, 장기 실행 그래프를 이전 시간으로 재설정할 수 있습니다.\n",
                "\n",
                "그래프에 대한 상태를 정의할 때 데이터 타입과 '리듀서' 함수를 정의합니다. 리듀서는 정보가 해당 요소에 어떻게 추가되는지 설명합니다. 작업이 병렬로 실행되고 상태를 동시에 업데이트하는 여러 노드에 매핑될 때 특히 유용합니다.\n",
                "\n",
                "이 예제에서는 기본 `AgentState`가 사용되었습니다. 이것은 [langgraph.prebuilt.chat_agent_executor](https://github.com/langchain-ai/langgraph/blob/e365b2b8bd695e03d758b19ff109152b2e342a87/libs/prebuilt/langgraph/prebuilt/chat_agent_executor.py)에 정의되어 있습니다.   \n",
                "\n",
                "```python\n",
                "\tclass AgentState(TypedDict):\n",
                "\t\t\"\"\"The state of the agent.\"\"\"\n",
                "\t\tmessages: Annotated[Sequence[BaseMessage], add_messages]\n",
                "\t\tremaining_steps: NotRequired[RemainingSteps]\n",
                "```\n",
                "\t\t\n",
                "- `messages`는 LLM과 주고받는 메시지를 포함하는 [langchain_core](https://github.com/langchain-ai/langchain/blob/088095b663993b1e53cf616e1ca487d1739b0d71/libs/core/langchain_core/messages/base.py)에 정의된 `BaseMessage` 목록입니다.\n",
                "\t- typing.Annotated를 사용하면 타입 힌트에 임의의 메타데이터를 첨부할 수 있습니다. 구문: Annotated[Type, metadata1, metadata2, ...] \n",
                "- `add_messages` 리듀서는 새 메시지를 메시지 목록 끝에 추가합니다.  \n",
                "- `remaining_steps`는 그래프의 단계를 추적합니다. 이것이 `recursion_limit`으로 초기화되는 것을 볼 수 있지만 그래프에 의해 추적되며 사용자에게는 보이지 않습니다.  \n",
                "빠르게 살펴보겠습니다."
            ]
        },
        {
            "cell_type": "code",
            "execution_count": 34,
            "id": "35787543-06dc-43cb-8f18-2abbf7bf3b07",
            "metadata": {},
            "outputs": [
                {
                    "data": {
                        "application/json": {
                            "messages": [
                                {
                                    "data": {
                                        "additional_kwargs": {},
                                        "content": "What is 3.1 * 4.2?",
                                        "example": false,
                                        "id": "be15ef67-0e71-4a1d-b1ab-1fbe2f7b7a4b",
                                        "name": null,
                                        "response_metadata": {},
                                        "type": "human"
                                    },
                                    "type": "human"
                                },
                                {
                                    "data": {
                                        "additional_kwargs": {
                                            "function_call": {
                                                "arguments": "{\"operation\": \"multiply\", \"a\": 3.1, \"b\": 4.2}",
                                                "name": "calculator"
                                            }
                                        },
                                        "content": "",
                                        "example": false,
                                        "id": "run--84214582-5657-494c-9e07-3c6b89417930-0",
                                        "invalid_tool_calls": [],
                                        "name": null,
                                        "response_metadata": {
                                            "finish_reason": "STOP",
                                            "model_name": "gemini-2.5-flash",
                                            "prompt_feedback": {
                                                "block_reason": 0,
                                                "safety_ratings": []
                                            },
                                            "safety_ratings": []
                                        },
                                        "tool_calls": [
                                            {
                                                "args": {
                                                    "a": 3.1,
                                                    "b": 4.2,
                                                    "operation": "multiply"
                                                },
                                                "id": "c5ab22bc-5816-44c3-bd44-ce532188936e",
                                                "name": "calculator",
                                                "type": "tool_call"
                                            }
                                        ],
                                        "type": "ai",
                                        "usage_metadata": {
                                            "input_token_details": {
                                                "cache_read": 0
                                            },
                                            "input_tokens": 246,
                                            "output_token_details": {
                                                "reasoning": 60
                                            },
                                            "output_tokens": 87,
                                            "total_tokens": 333
                                        }
                                    },
                                    "type": "ai"
                                },
                                {
                                    "data": {
                                        "additional_kwargs": {},
                                        "artifact": null,
                                        "content": "13.020000000000001",
                                        "id": "a30904a5-3dbe-488e-b22d-88aedacfcb43",
                                        "name": "calculator",
                                        "response_metadata": {},
                                        "status": "success",
                                        "tool_call_id": "c5ab22bc-5816-44c3-bd44-ce532188936e",
                                        "type": "tool"
                                    },
                                    "type": "tool"
                                },
                                {
                                    "data": {
                                        "additional_kwargs": {},
                                        "content": "The product of 3.1 and 4.2 is 13.02.",
                                        "example": false,
                                        "id": "run--6e5ec130-a46a-4008-958e-054113746c1a-0",
                                        "invalid_tool_calls": [],
                                        "name": null,
                                        "response_metadata": {
                                            "finish_reason": "STOP",
                                            "model_name": "gemini-2.5-flash",
                                            "prompt_feedback": {
                                                "block_reason": 0,
                                                "safety_ratings": []
                                            },
                                            "safety_ratings": []
                                        },
                                        "tool_calls": [],
                                        "type": "ai",
                                        "usage_metadata": {
                                            "input_token_details": {
                                                "cache_read": 0
                                            },
                                            "input_tokens": 303,
                                            "output_tokens": 20,
                                            "total_tokens": 323
                                        }
                                    },
                                    "type": "ai"
                                }
                            ]
                        },
                        "text/plain": [
                            "<IPython.core.display.JSON object>"
                        ]
                    },
                    "execution_count": 34,
                    "metadata": {
                        "application/json": {
                            "expanded": false,
                            "root": "root"
                        }
                    },
                    "output_type": "execute_result"
                }
            ],
            "source": [
                "from IPython.display import JSON\n",
                "from langchain_core.messages import messages_to_dict\n",
                "\n",
                "JSON({\"messages\": messages_to_dict(result1[\"messages\"])})"
            ]
        },
        {
            "cell_type": "markdown",
            "id": "4720982e-16c2-4b90-84d6-94aba6a13e04",
            "metadata": {},
            "source": [
                "#### 사용자 정의 상태\n",
                "수행된 모든 연산의 목록을 유지하도록 계산기를 확장해보겠습니다. 이를 위해 상태에 목록을 추가하고 상태를 목록에 추가하는 리듀서 함수가 필요합니다. 목록이나 연산이 비어 있는 경우를 안전하게 처리합니다."
            ]
        },
        {
            "cell_type": "code",
            "execution_count": 35,
            "id": "1ea8d331-3e9c-4195-99a1-fa5cf6659c11",
            "metadata": {},
            "outputs": [],
            "source": [
                "from langgraph.prebuilt.chat_agent_executor import AgentState\n",
                "\n",
                "\n",
                "def reduce_list(left: list | None, right: list | None) -> list:\n",
                "\t\"\"\"Safely combine two lists, handling cases where either or both inputs might be None.\n",
                "\n",
                "\tArgs:\n",
                "\t\tleft (list | None): The first list to combine, or None.\n",
                "\t\tright (list | None): The second list to combine, or None.\n",
                "\n",
                "\tReturns:\n",
                "\t\tlist: A new list containing all elements from both input lists.\n",
                "\t\t\t   If an input is None, it's treated as an empty list.\n",
                "\t\"\"\"\n",
                "\tif not left:\n",
                "\t\tleft = []\n",
                "\tif not right:\n",
                "\t\tright = []\n",
                "\treturn left + right\n",
                "\n",
                "class CalcState(AgentState):\n",
                "\t\"\"\"Graph State.\"\"\"\n",
                "\tops: Annotated[List[str], reduce_list]\n"
            ]
        },
        {
            "cell_type": "markdown",
            "id": "aebd4660-83b9-4a23-9108-a03cbd26877a",
            "metadata": {},
            "source": [
                "#### 상태 접근 \n",
                "이제 업데이트를 포함하도록 계산기를 확장할 수 있습니다. 이것이 문제를 강조합니다! 이제 상태가 우리 계산기 도구의 인수입니다. \n",
                "<img src=\"./assets/state_arg_diagram.png\" width=\"800\" style=\"display:block; margin-left:0;\">\n",
                "다이어그램에서 명확한 것은 LLM이 도구 호출을 생성하는 임무를 맡고 있지만 컨텍스트에 그것이 없기 때문에 `state` 인수를 형성할 수 없다는 것입니다!  \n",
                "해결책은 LLM 이후에 **상태를 주입**하는 것입니다.\n",
                "<img src=\"./assets/inject_state_diagram.png\" width=\"1000\" style=\"display:block; margin-left:0;\"> "
            ]
        },
        {
            "cell_type": "markdown",
            "id": "a01aea69-1704-48ff-b33d-7484e35a691b",
            "metadata": {},
            "source": [
                "<div style=\"margin:0; padding:0\">\n",
                "  <p style=\"margin:0;\">이것은 아래에 표시된 <code>InjectedState</code> 어노테이션으로 달성됩니다.</p>\n",
                "  <pre style=\"font-size:0.90em; margin:0; padding-top:0;\">\n",
                "<code class=\"language-python\">\t@tool\n",
                "\tdef calculator_wstate(\n",
                "\t\toperation: Literal[\"add\",\"subtract\",\"multiply\",\"divide\"],\n",
                "\t\ta: Union[int, float],\n",
                "\t\tb: Union[int, float],\n",
                "\t\t<span style=\"background:#fff3a3; padding:0 2px;\">state: Annotated[CalcState, InjectedState],</span>  # ← LLM에 전송되지 않음\n",
                "\t\t<span style=\"background:#fff3a3; padding:0 2px;\">tool_call_id: Annotated[str, InjectedToolCallId],</span>  # ← LLM에 전송되지 않음\n",
                "\t) -> Union[int, float]:\n",
                "</code></pre>\n",
                "<p style=\"margin:0; padding-top:4px;\">\n",
                "\t이것은 LLM에 제공된 설명에서 <code>state</code>를 제거하고 <code>ToolNode</code>에서 도구를 호출할 때 주입합니다. <code>tool_call_id</code>도 포함됩니다. 이것은 다음 섹션에서 설명됩니다.\n",
                "  </p>\n",
                "</div>"
            ]
        },
        {
            "cell_type": "markdown",
            "id": "7dcaea07-fa1b-4b1a-bd1f-c7e77a6fe451",
            "metadata": {},
            "source": [
                "#### 상태 업데이트\n",
                "도구는 일반적으로 상태의 `messages` 필드에 포함된 `ToolMessage`에서 LLM에 관찰을 반환한다는 것을 기억할 수 있습니다. 상태의 추가 멤버를 업데이트하기 위해 이 업데이트를 확장하고 싶습니다. 아래 반환에서처럼 `Command`를 사용하여 수행됩니다. \n",
                "```python\n",
                "\treturn Command(\n",
                "\t\tupdate={\n",
                "\t\t\t\"ops\": ops,\n",
                "\t\t\t\"messages\": [\n",
                "\t\t\t\tToolMessage(f\"{result}\", tool_call_id=tool_call_id)\n",
                "\t\t\t]})\n",
                "```\n",
                "`ToolMessage`를 생성하려면 `tool_call_id`가 필요하다는 점에 유의하세요."
            ]
        },
        {
            "cell_type": "code",
            "execution_count": 36,
            "id": "b52ed717-9390-437d-991c-1df0d9a337e9",
            "metadata": {},
            "outputs": [],
            "source": [
                "@tool\n",
                "def calculator_wstate(\n",
                "\toperation: Literal[\"add\",\"subtract\",\"multiply\",\"divide\"],\n",
                "\ta: Union[int, float],\n",
                "\tb: Union[int, float],\n",
                "\tstate: Annotated[CalcState, InjectedState],   # not sent to LLM\n",
                "\ttool_call_id: Annotated[str, InjectedToolCallId] # not sent to LLM\n",
                ") -> Union[int, float]:\n",
                "\t\"\"\"Define a two-input calculator tool.\n",
                "\n",
                "\tArg:\n",
                "\t\toperation (str): The operation to perform ('add', 'subtract', 'multiply', 'divide').\n",
                "\t\ta (float or int): The first number.\n",
                "\t\tb (float or int): The second number.\n",
                "\t\t\n",
                "\tReturns:\n",
                "\t\tresult (float or int): the result of the operation\n",
                "\tExample\n",
                "\t\tDivide: result   = a / b\n",
                "\t\tSubtract: result = a - b\n",
                "\t\"\"\"\n",
                "\tif operation == 'divide' and b == 0:\n",
                "\t\treturn {\"error\": \"Division by zero is not allowed.\"}\n",
                "\n",
                "\t# Perform calculation\n",
                "\tif operation == 'add':\n",
                "\t\tresult = a + b\n",
                "\telif operation == 'subtract':\n",
                "\t\tresult = a - b\n",
                "\telif operation == 'multiply':\n",
                "\t\tresult = a * b\n",
                "\telif operation == 'divide':\n",
                "\t\tresult = a / b\n",
                "\telse: \n",
                "\t\tresult = \"unknown operation\"\n",
                "\tops = [f\"({operation}, {a}, {b}),\" ]\n",
                "\treturn Command(\n",
                "\t\tupdate={\n",
                "\t\t\t\"ops\": ops,\n",
                "\t\t\t\"messages\": [\n",
                "\t\t\t\tToolMessage(f\"{result}\", tool_call_id=tool_call_id)\n",
                "\t\t\t],\n",
                "\t\t}\n",
                "\t)\n",
                "\n"
            ]
        },
        {
            "cell_type": "code",
            "execution_count": 37,
            "id": "fe5163b6-673a-4e01-a226-34c9924f837f",
            "metadata": {},
            "outputs": [
                {
                    "name": "stderr",
                    "output_type": "stream",
                    "text": [
                        "E0000 00:00:1760676549.755835  488840 alts_credentials.cc:93] ALTS creds ignored. Not running on GCP and untrusted ALTS is not enabled.\n"
                    ]
                }
            ],
            "source": [
                "SYSTEM_PROMPT = \"You are a helpful arithmetic assistant who is an expert at using a calculator.\"\n",
                "\n",
                "model = init_chat_model(model=\"google_genai:gemini-2.5-flash\", temperature=0.0)\n",
                "tools = [calculator_wstate]  # new tool\n",
                "\n",
                "# Create agent\n",
                "agent = create_react_agent(\n",
                "\tmodel,\n",
                "\ttools,\n",
                "\tprompt=SYSTEM_PROMPT,\n",
                "\tstate_schema=CalcState,  # now defining state scheme\n",
                ").with_config({\"recursion_limit\": 20})  #recursion_limit limits the number of steps the agent will run"
            ]
        },
        {
            "cell_type": "code",
            "execution_count": 38,
            "id": "f666a44a-ada6-4d64-9dfd-39dfa04533b2",
            "metadata": {},
            "outputs": [
                {
                    "data": {
                        "text/html": [
                            "<pre style=\"white-space:pre;overflow-x:auto;line-height:normal;font-family:Menlo,'DejaVu Sans Mono',consolas,'Courier New',monospace\"><span style=\"color: #000080; text-decoration-color: #000080\">╭─────────────────────────────────────────────────── 🧑 Human ────────────────────────────────────────────────────╮</span>\n",
                            "<span style=\"color: #000080; text-decoration-color: #000080\">│</span> What is 3.1 * 4.2?                                                                                              <span style=\"color: #000080; text-decoration-color: #000080\">│</span>\n",
                            "<span style=\"color: #000080; text-decoration-color: #000080\">╰─────────────────────────────────────────────────────────────────────────────────────────────────────────────────╯</span>\n",
                            "</pre>\n"
                        ],
                        "text/plain": [
                            "\u001b[34m╭─\u001b[0m\u001b[34m──────────────────────────────────────────────────\u001b[0m\u001b[34m 🧑 Human \u001b[0m\u001b[34m───────────────────────────────────────────────────\u001b[0m\u001b[34m─╮\u001b[0m\n",
                            "\u001b[34m│\u001b[0m What is 3.1 * 4.2?                                                                                              \u001b[34m│\u001b[0m\n",
                            "\u001b[34m╰─────────────────────────────────────────────────────────────────────────────────────────────────────────────────╯\u001b[0m\n"
                        ]
                    },
                    "metadata": {},
                    "output_type": "display_data"
                },
                {
                    "data": {
                        "text/html": [
                            "<pre style=\"white-space:pre;overflow-x:auto;line-height:normal;font-family:Menlo,'DejaVu Sans Mono',consolas,'Courier New',monospace\"><span style=\"color: #c0c0c0; text-decoration-color: #c0c0c0\">╭───────────────────────────────────────────────────── 📝 AI ─────────────────────────────────────────────────────╮</span>\n",
                            "<span style=\"color: #c0c0c0; text-decoration-color: #c0c0c0\">│</span>                                                                                                                 <span style=\"color: #c0c0c0; text-decoration-color: #c0c0c0\">│</span>\n",
                            "<span style=\"color: #c0c0c0; text-decoration-color: #c0c0c0\">│</span>                                                                                                                 <span style=\"color: #c0c0c0; text-decoration-color: #c0c0c0\">│</span>\n",
                            "<span style=\"color: #c0c0c0; text-decoration-color: #c0c0c0\">│</span> 🔧 Tool Call: calculator_wstate                                                                                 <span style=\"color: #c0c0c0; text-decoration-color: #c0c0c0\">│</span>\n",
                            "<span style=\"color: #c0c0c0; text-decoration-color: #c0c0c0\">│</span>    Args: {                                                                                                      <span style=\"color: #c0c0c0; text-decoration-color: #c0c0c0\">│</span>\n",
                            "<span style=\"color: #c0c0c0; text-decoration-color: #c0c0c0\">│</span>   \"operation\": \"multiply\",                                                                                      <span style=\"color: #c0c0c0; text-decoration-color: #c0c0c0\">│</span>\n",
                            "<span style=\"color: #c0c0c0; text-decoration-color: #c0c0c0\">│</span>   \"a\": 3.1,                                                                                                     <span style=\"color: #c0c0c0; text-decoration-color: #c0c0c0\">│</span>\n",
                            "<span style=\"color: #c0c0c0; text-decoration-color: #c0c0c0\">│</span>   \"b\": 4.2                                                                                                      <span style=\"color: #c0c0c0; text-decoration-color: #c0c0c0\">│</span>\n",
                            "<span style=\"color: #c0c0c0; text-decoration-color: #c0c0c0\">│</span> }                                                                                                               <span style=\"color: #c0c0c0; text-decoration-color: #c0c0c0\">│</span>\n",
                            "<span style=\"color: #c0c0c0; text-decoration-color: #c0c0c0\">│</span>    ID: cfc21ea7-0992-4b7f-8ff4-4cd93c195d06                                                                     <span style=\"color: #c0c0c0; text-decoration-color: #c0c0c0\">│</span>\n",
                            "<span style=\"color: #c0c0c0; text-decoration-color: #c0c0c0\">╰─────────────────────────────────────────────────────────────────────────────────────────────────────────────────╯</span>\n",
                            "</pre>\n"
                        ],
                        "text/plain": [
                            "\u001b[37m╭─\u001b[0m\u001b[37m────────────────────────────────────────────────────\u001b[0m\u001b[37m 📝 AI \u001b[0m\u001b[37m────────────────────────────────────────────────────\u001b[0m\u001b[37m─╮\u001b[0m\n",
                            "\u001b[37m│\u001b[0m                                                                                                                 \u001b[37m│\u001b[0m\n",
                            "\u001b[37m│\u001b[0m                                                                                                                 \u001b[37m│\u001b[0m\n",
                            "\u001b[37m│\u001b[0m 🔧 Tool Call: calculator_wstate                                                                                 \u001b[37m│\u001b[0m\n",
                            "\u001b[37m│\u001b[0m    Args: {                                                                                                      \u001b[37m│\u001b[0m\n",
                            "\u001b[37m│\u001b[0m   \"operation\": \"multiply\",                                                                                      \u001b[37m│\u001b[0m\n",
                            "\u001b[37m│\u001b[0m   \"a\": 3.1,                                                                                                     \u001b[37m│\u001b[0m\n",
                            "\u001b[37m│\u001b[0m   \"b\": 4.2                                                                                                      \u001b[37m│\u001b[0m\n",
                            "\u001b[37m│\u001b[0m }                                                                                                               \u001b[37m│\u001b[0m\n",
                            "\u001b[37m│\u001b[0m    ID: cfc21ea7-0992-4b7f-8ff4-4cd93c195d06                                                                     \u001b[37m│\u001b[0m\n",
                            "\u001b[37m╰─────────────────────────────────────────────────────────────────────────────────────────────────────────────────╯\u001b[0m\n"
                        ]
                    },
                    "metadata": {},
                    "output_type": "display_data"
                },
                {
                    "data": {
                        "text/html": [
                            "<pre style=\"white-space:pre;overflow-x:auto;line-height:normal;font-family:Menlo,'DejaVu Sans Mono',consolas,'Courier New',monospace\"><span style=\"color: #808000; text-decoration-color: #808000\">╭──────────────────────────────────────────────── 🔧 Tool Output ─────────────────────────────────────────────────╮</span>\n",
                            "<span style=\"color: #808000; text-decoration-color: #808000\">│</span> 13.020000000000001                                                                                              <span style=\"color: #808000; text-decoration-color: #808000\">│</span>\n",
                            "<span style=\"color: #808000; text-decoration-color: #808000\">╰─────────────────────────────────────────────────────────────────────────────────────────────────────────────────╯</span>\n",
                            "</pre>\n"
                        ],
                        "text/plain": [
                            "\u001b[33m╭─\u001b[0m\u001b[33m───────────────────────────────────────────────\u001b[0m\u001b[33m 🔧 Tool Output \u001b[0m\u001b[33m────────────────────────────────────────────────\u001b[0m\u001b[33m─╮\u001b[0m\n",
                            "\u001b[33m│\u001b[0m 13.020000000000001                                                                                              \u001b[33m│\u001b[0m\n",
                            "\u001b[33m╰─────────────────────────────────────────────────────────────────────────────────────────────────────────────────╯\u001b[0m\n"
                        ]
                    },
                    "metadata": {},
                    "output_type": "display_data"
                },
                {
                    "data": {
                        "text/html": [
                            "<pre style=\"white-space:pre;overflow-x:auto;line-height:normal;font-family:Menlo,'DejaVu Sans Mono',consolas,'Courier New',monospace\"><span style=\"color: #c0c0c0; text-decoration-color: #c0c0c0\">╭───────────────────────────────────────────────────── 📝 AI ─────────────────────────────────────────────────────╮</span>\n",
                            "<span style=\"color: #c0c0c0; text-decoration-color: #c0c0c0\">│</span> 3.1 * 4.2 = 13.02                                                                                               <span style=\"color: #c0c0c0; text-decoration-color: #c0c0c0\">│</span>\n",
                            "<span style=\"color: #c0c0c0; text-decoration-color: #c0c0c0\">╰─────────────────────────────────────────────────────────────────────────────────────────────────────────────────╯</span>\n",
                            "</pre>\n"
                        ],
                        "text/plain": [
                            "\u001b[37m╭─\u001b[0m\u001b[37m────────────────────────────────────────────────────\u001b[0m\u001b[37m 📝 AI \u001b[0m\u001b[37m────────────────────────────────────────────────────\u001b[0m\u001b[37m─╮\u001b[0m\n",
                            "\u001b[37m│\u001b[0m 3.1 * 4.2 = 13.02                                                                                               \u001b[37m│\u001b[0m\n",
                            "\u001b[37m╰─────────────────────────────────────────────────────────────────────────────────────────────────────────────────╯\u001b[0m\n"
                        ]
                    },
                    "metadata": {},
                    "output_type": "display_data"
                }
            ],
            "source": [
                "# Example usage\n",
                "result2 = agent.invoke(\n",
                "\t{\n",
                "\t\t\"messages\": [\n",
                "\t\t\t{\n",
                "\t\t\t\t\"role\": \"user\",\n",
                "\t\t\t\t\"content\": \"What is 3.1 * 4.2?\",\n",
                "\t\t\t}\n",
                "\t\t],\n",
                "\t}\n",
                ")\n",
                "\n",
                "format_messages(result2[\"messages\"])"
            ]
        },
        {
            "cell_type": "code",
            "execution_count": 39,
            "id": "8a55b1e3-ccba-4899-bbd3-6ab5fb729716",
            "metadata": {},
            "outputs": [
                {
                    "data": {
                        "application/json": {
                            "messages": [
                                [
                                    [
                                        "content",
                                        "What is 3.1 * 4.2?"
                                    ],
                                    [
                                        "additional_kwargs",
                                        {}
                                    ],
                                    [
                                        "response_metadata",
                                        {}
                                    ],
                                    [
                                        "type",
                                        "human"
                                    ],
                                    [
                                        "name",
                                        null
                                    ],
                                    [
                                        "id",
                                        "6858c423-eba5-4d47-96fd-c408e60276b8"
                                    ],
                                    [
                                        "example",
                                        false
                                    ]
                                ],
                                [
                                    [
                                        "content",
                                        ""
                                    ],
                                    [
                                        "additional_kwargs",
                                        {
                                            "function_call": {
                                                "arguments": "{\"operation\": \"multiply\", \"a\": 3.1, \"b\": 4.2}",
                                                "name": "calculator_wstate"
                                            }
                                        }
                                    ],
                                    [
                                        "response_metadata",
                                        {
                                            "finish_reason": "STOP",
                                            "model_name": "gemini-2.5-flash",
                                            "prompt_feedback": {
                                                "block_reason": 0,
                                                "safety_ratings": []
                                            },
                                            "safety_ratings": []
                                        }
                                    ],
                                    [
                                        "type",
                                        "ai"
                                    ],
                                    [
                                        "name",
                                        null
                                    ],
                                    [
                                        "id",
                                        "run--d645cc74-bb50-4061-9c2f-3a536a846e29-0"
                                    ],
                                    [
                                        "example",
                                        false
                                    ],
                                    [
                                        "tool_calls",
                                        [
                                            {
                                                "args": {
                                                    "a": 3.1,
                                                    "b": 4.2,
                                                    "operation": "multiply"
                                                },
                                                "id": "cfc21ea7-0992-4b7f-8ff4-4cd93c195d06",
                                                "name": "calculator_wstate",
                                                "type": "tool_call"
                                            }
                                        ]
                                    ],
                                    [
                                        "invalid_tool_calls",
                                        []
                                    ],
                                    [
                                        "usage_metadata",
                                        {
                                            "input_token_details": {
                                                "cache_read": 0
                                            },
                                            "input_tokens": 253,
                                            "output_token_details": {
                                                "reasoning": 60
                                            },
                                            "output_tokens": 90,
                                            "total_tokens": 343
                                        }
                                    ]
                                ],
                                [
                                    [
                                        "content",
                                        "13.020000000000001"
                                    ],
                                    [
                                        "additional_kwargs",
                                        {}
                                    ],
                                    [
                                        "response_metadata",
                                        {}
                                    ],
                                    [
                                        "type",
                                        "tool"
                                    ],
                                    [
                                        "name",
                                        "calculator_wstate"
                                    ],
                                    [
                                        "id",
                                        "cf2c539c-48fb-411c-91a2-1ce97119c83b"
                                    ],
                                    [
                                        "tool_call_id",
                                        "cfc21ea7-0992-4b7f-8ff4-4cd93c195d06"
                                    ],
                                    [
                                        "artifact",
                                        null
                                    ],
                                    [
                                        "status",
                                        "success"
                                    ]
                                ],
                                [
                                    [
                                        "content",
                                        "3.1 * 4.2 = 13.02"
                                    ],
                                    [
                                        "additional_kwargs",
                                        {}
                                    ],
                                    [
                                        "response_metadata",
                                        {
                                            "finish_reason": "STOP",
                                            "model_name": "gemini-2.5-flash",
                                            "prompt_feedback": {
                                                "block_reason": 0,
                                                "safety_ratings": []
                                            },
                                            "safety_ratings": []
                                        }
                                    ],
                                    [
                                        "type",
                                        "ai"
                                    ],
                                    [
                                        "name",
                                        null
                                    ],
                                    [
                                        "id",
                                        "run--d4aac29e-a6c3-4510-8455-8b45c18128b1-0"
                                    ],
                                    [
                                        "example",
                                        false
                                    ],
                                    [
                                        "tool_calls",
                                        []
                                    ],
                                    [
                                        "invalid_tool_calls",
                                        []
                                    ],
                                    [
                                        "usage_metadata",
                                        {
                                            "input_token_details": {
                                                "cache_read": 0
                                            },
                                            "input_tokens": 316,
                                            "output_tokens": 15,
                                            "total_tokens": 331
                                        }
                                    ]
                                ]
                            ],
                            "ops": [
                                "(multiply, 3.1, 4.2),"
                            ]
                        },
                        "text/plain": [
                            "<IPython.core.display.JSON object>"
                        ]
                    },
                    "execution_count": 39,
                    "metadata": {
                        "application/json": {
                            "expanded": false,
                            "root": "root"
                        }
                    },
                    "output_type": "execute_result"
                }
            ],
            "source": [
                "# notice the ops field is now in the response\n",
                "JSON(result2)"
            ]
        },
        {
            "cell_type": "markdown",
            "id": "578f86a4-53b4-4814-9ee5-cb8919a1c9c4",
            "metadata": {},
            "source": [
                "한 가지 더 시도해보겠습니다. 이 예제에서 이중 도구 호출에 주의하세요. 도구 노드는 이들을 병렬로 실행합니다."
            ]
        },
        {
            "cell_type": "code",
            "execution_count": 40,
            "id": "9b15902d-064c-49fe-8266-c9cc5e895344",
            "metadata": {},
            "outputs": [
                {
                    "data": {
                        "text/html": [
                            "<pre style=\"white-space:pre;overflow-x:auto;line-height:normal;font-family:Menlo,'DejaVu Sans Mono',consolas,'Courier New',monospace\"><span style=\"color: #000080; text-decoration-color: #000080\">╭─────────────────────────────────────────────────── 🧑 Human ────────────────────────────────────────────────────╮</span>\n",
                            "<span style=\"color: #000080; text-decoration-color: #000080\">│</span> What is 3.1 * 4.2 + 5.5 * 6.5?                                                                                  <span style=\"color: #000080; text-decoration-color: #000080\">│</span>\n",
                            "<span style=\"color: #000080; text-decoration-color: #000080\">╰─────────────────────────────────────────────────────────────────────────────────────────────────────────────────╯</span>\n",
                            "</pre>\n"
                        ],
                        "text/plain": [
                            "\u001b[34m╭─\u001b[0m\u001b[34m──────────────────────────────────────────────────\u001b[0m\u001b[34m 🧑 Human \u001b[0m\u001b[34m───────────────────────────────────────────────────\u001b[0m\u001b[34m─╮\u001b[0m\n",
                            "\u001b[34m│\u001b[0m What is 3.1 * 4.2 + 5.5 * 6.5?                                                                                  \u001b[34m│\u001b[0m\n",
                            "\u001b[34m╰─────────────────────────────────────────────────────────────────────────────────────────────────────────────────╯\u001b[0m\n"
                        ]
                    },
                    "metadata": {},
                    "output_type": "display_data"
                },
                {
                    "data": {
                        "text/html": [
                            "<pre style=\"white-space:pre;overflow-x:auto;line-height:normal;font-family:Menlo,'DejaVu Sans Mono',consolas,'Courier New',monospace\"><span style=\"color: #c0c0c0; text-decoration-color: #c0c0c0\">╭───────────────────────────────────────────────────── 📝 AI ─────────────────────────────────────────────────────╮</span>\n",
                            "<span style=\"color: #c0c0c0; text-decoration-color: #c0c0c0\">│</span>                                                                                                                 <span style=\"color: #c0c0c0; text-decoration-color: #c0c0c0\">│</span>\n",
                            "<span style=\"color: #c0c0c0; text-decoration-color: #c0c0c0\">│</span>                                                                                                                 <span style=\"color: #c0c0c0; text-decoration-color: #c0c0c0\">│</span>\n",
                            "<span style=\"color: #c0c0c0; text-decoration-color: #c0c0c0\">│</span> 🔧 Tool Call: calculator_wstate                                                                                 <span style=\"color: #c0c0c0; text-decoration-color: #c0c0c0\">│</span>\n",
                            "<span style=\"color: #c0c0c0; text-decoration-color: #c0c0c0\">│</span>    Args: {                                                                                                      <span style=\"color: #c0c0c0; text-decoration-color: #c0c0c0\">│</span>\n",
                            "<span style=\"color: #c0c0c0; text-decoration-color: #c0c0c0\">│</span>   \"operation\": \"multiply\",                                                                                      <span style=\"color: #c0c0c0; text-decoration-color: #c0c0c0\">│</span>\n",
                            "<span style=\"color: #c0c0c0; text-decoration-color: #c0c0c0\">│</span>   \"a\": 3.1,                                                                                                     <span style=\"color: #c0c0c0; text-decoration-color: #c0c0c0\">│</span>\n",
                            "<span style=\"color: #c0c0c0; text-decoration-color: #c0c0c0\">│</span>   \"b\": 4.2                                                                                                      <span style=\"color: #c0c0c0; text-decoration-color: #c0c0c0\">│</span>\n",
                            "<span style=\"color: #c0c0c0; text-decoration-color: #c0c0c0\">│</span> }                                                                                                               <span style=\"color: #c0c0c0; text-decoration-color: #c0c0c0\">│</span>\n",
                            "<span style=\"color: #c0c0c0; text-decoration-color: #c0c0c0\">│</span>    ID: 693e021f-4f83-48c4-a782-220c197ad0fe                                                                     <span style=\"color: #c0c0c0; text-decoration-color: #c0c0c0\">│</span>\n",
                            "<span style=\"color: #c0c0c0; text-decoration-color: #c0c0c0\">╰─────────────────────────────────────────────────────────────────────────────────────────────────────────────────╯</span>\n",
                            "</pre>\n"
                        ],
                        "text/plain": [
                            "\u001b[37m╭─\u001b[0m\u001b[37m────────────────────────────────────────────────────\u001b[0m\u001b[37m 📝 AI \u001b[0m\u001b[37m────────────────────────────────────────────────────\u001b[0m\u001b[37m─╮\u001b[0m\n",
                            "\u001b[37m│\u001b[0m                                                                                                                 \u001b[37m│\u001b[0m\n",
                            "\u001b[37m│\u001b[0m                                                                                                                 \u001b[37m│\u001b[0m\n",
                            "\u001b[37m│\u001b[0m 🔧 Tool Call: calculator_wstate                                                                                 \u001b[37m│\u001b[0m\n",
                            "\u001b[37m│\u001b[0m    Args: {                                                                                                      \u001b[37m│\u001b[0m\n",
                            "\u001b[37m│\u001b[0m   \"operation\": \"multiply\",                                                                                      \u001b[37m│\u001b[0m\n",
                            "\u001b[37m│\u001b[0m   \"a\": 3.1,                                                                                                     \u001b[37m│\u001b[0m\n",
                            "\u001b[37m│\u001b[0m   \"b\": 4.2                                                                                                      \u001b[37m│\u001b[0m\n",
                            "\u001b[37m│\u001b[0m }                                                                                                               \u001b[37m│\u001b[0m\n",
                            "\u001b[37m│\u001b[0m    ID: 693e021f-4f83-48c4-a782-220c197ad0fe                                                                     \u001b[37m│\u001b[0m\n",
                            "\u001b[37m╰─────────────────────────────────────────────────────────────────────────────────────────────────────────────────╯\u001b[0m\n"
                        ]
                    },
                    "metadata": {},
                    "output_type": "display_data"
                },
                {
                    "data": {
                        "text/html": [
                            "<pre style=\"white-space:pre;overflow-x:auto;line-height:normal;font-family:Menlo,'DejaVu Sans Mono',consolas,'Courier New',monospace\"><span style=\"color: #808000; text-decoration-color: #808000\">╭──────────────────────────────────────────────── 🔧 Tool Output ─────────────────────────────────────────────────╮</span>\n",
                            "<span style=\"color: #808000; text-decoration-color: #808000\">│</span> 13.020000000000001                                                                                              <span style=\"color: #808000; text-decoration-color: #808000\">│</span>\n",
                            "<span style=\"color: #808000; text-decoration-color: #808000\">╰─────────────────────────────────────────────────────────────────────────────────────────────────────────────────╯</span>\n",
                            "</pre>\n"
                        ],
                        "text/plain": [
                            "\u001b[33m╭─\u001b[0m\u001b[33m───────────────────────────────────────────────\u001b[0m\u001b[33m 🔧 Tool Output \u001b[0m\u001b[33m────────────────────────────────────────────────\u001b[0m\u001b[33m─╮\u001b[0m\n",
                            "\u001b[33m│\u001b[0m 13.020000000000001                                                                                              \u001b[33m│\u001b[0m\n",
                            "\u001b[33m╰─────────────────────────────────────────────────────────────────────────────────────────────────────────────────╯\u001b[0m\n"
                        ]
                    },
                    "metadata": {},
                    "output_type": "display_data"
                },
                {
                    "data": {
                        "text/html": [
                            "<pre style=\"white-space:pre;overflow-x:auto;line-height:normal;font-family:Menlo,'DejaVu Sans Mono',consolas,'Courier New',monospace\"><span style=\"color: #c0c0c0; text-decoration-color: #c0c0c0\">╭───────────────────────────────────────────────────── 📝 AI ─────────────────────────────────────────────────────╮</span>\n",
                            "<span style=\"color: #c0c0c0; text-decoration-color: #c0c0c0\">│</span>                                                                                                                 <span style=\"color: #c0c0c0; text-decoration-color: #c0c0c0\">│</span>\n",
                            "<span style=\"color: #c0c0c0; text-decoration-color: #c0c0c0\">│</span>                                                                                                                 <span style=\"color: #c0c0c0; text-decoration-color: #c0c0c0\">│</span>\n",
                            "<span style=\"color: #c0c0c0; text-decoration-color: #c0c0c0\">│</span> 🔧 Tool Call: calculator_wstate                                                                                 <span style=\"color: #c0c0c0; text-decoration-color: #c0c0c0\">│</span>\n",
                            "<span style=\"color: #c0c0c0; text-decoration-color: #c0c0c0\">│</span>    Args: {                                                                                                      <span style=\"color: #c0c0c0; text-decoration-color: #c0c0c0\">│</span>\n",
                            "<span style=\"color: #c0c0c0; text-decoration-color: #c0c0c0\">│</span>   \"operation\": \"multiply\",                                                                                      <span style=\"color: #c0c0c0; text-decoration-color: #c0c0c0\">│</span>\n",
                            "<span style=\"color: #c0c0c0; text-decoration-color: #c0c0c0\">│</span>   \"a\": 5.5,                                                                                                     <span style=\"color: #c0c0c0; text-decoration-color: #c0c0c0\">│</span>\n",
                            "<span style=\"color: #c0c0c0; text-decoration-color: #c0c0c0\">│</span>   \"b\": 6.5                                                                                                      <span style=\"color: #c0c0c0; text-decoration-color: #c0c0c0\">│</span>\n",
                            "<span style=\"color: #c0c0c0; text-decoration-color: #c0c0c0\">│</span> }                                                                                                               <span style=\"color: #c0c0c0; text-decoration-color: #c0c0c0\">│</span>\n",
                            "<span style=\"color: #c0c0c0; text-decoration-color: #c0c0c0\">│</span>    ID: 0b29d3d3-57b9-4bbd-86d2-6bbfcbfa41d9                                                                     <span style=\"color: #c0c0c0; text-decoration-color: #c0c0c0\">│</span>\n",
                            "<span style=\"color: #c0c0c0; text-decoration-color: #c0c0c0\">╰─────────────────────────────────────────────────────────────────────────────────────────────────────────────────╯</span>\n",
                            "</pre>\n"
                        ],
                        "text/plain": [
                            "\u001b[37m╭─\u001b[0m\u001b[37m────────────────────────────────────────────────────\u001b[0m\u001b[37m 📝 AI \u001b[0m\u001b[37m────────────────────────────────────────────────────\u001b[0m\u001b[37m─╮\u001b[0m\n",
                            "\u001b[37m│\u001b[0m                                                                                                                 \u001b[37m│\u001b[0m\n",
                            "\u001b[37m│\u001b[0m                                                                                                                 \u001b[37m│\u001b[0m\n",
                            "\u001b[37m│\u001b[0m 🔧 Tool Call: calculator_wstate                                                                                 \u001b[37m│\u001b[0m\n",
                            "\u001b[37m│\u001b[0m    Args: {                                                                                                      \u001b[37m│\u001b[0m\n",
                            "\u001b[37m│\u001b[0m   \"operation\": \"multiply\",                                                                                      \u001b[37m│\u001b[0m\n",
                            "\u001b[37m│\u001b[0m   \"a\": 5.5,                                                                                                     \u001b[37m│\u001b[0m\n",
                            "\u001b[37m│\u001b[0m   \"b\": 6.5                                                                                                      \u001b[37m│\u001b[0m\n",
                            "\u001b[37m│\u001b[0m }                                                                                                               \u001b[37m│\u001b[0m\n",
                            "\u001b[37m│\u001b[0m    ID: 0b29d3d3-57b9-4bbd-86d2-6bbfcbfa41d9                                                                     \u001b[37m│\u001b[0m\n",
                            "\u001b[37m╰─────────────────────────────────────────────────────────────────────────────────────────────────────────────────╯\u001b[0m\n"
                        ]
                    },
                    "metadata": {},
                    "output_type": "display_data"
                },
                {
                    "data": {
                        "text/html": [
                            "<pre style=\"white-space:pre;overflow-x:auto;line-height:normal;font-family:Menlo,'DejaVu Sans Mono',consolas,'Courier New',monospace\"><span style=\"color: #808000; text-decoration-color: #808000\">╭──────────────────────────────────────────────── 🔧 Tool Output ─────────────────────────────────────────────────╮</span>\n",
                            "<span style=\"color: #808000; text-decoration-color: #808000\">│</span> 35.75                                                                                                           <span style=\"color: #808000; text-decoration-color: #808000\">│</span>\n",
                            "<span style=\"color: #808000; text-decoration-color: #808000\">╰─────────────────────────────────────────────────────────────────────────────────────────────────────────────────╯</span>\n",
                            "</pre>\n"
                        ],
                        "text/plain": [
                            "\u001b[33m╭─\u001b[0m\u001b[33m───────────────────────────────────────────────\u001b[0m\u001b[33m 🔧 Tool Output \u001b[0m\u001b[33m────────────────────────────────────────────────\u001b[0m\u001b[33m─╮\u001b[0m\n",
                            "\u001b[33m│\u001b[0m 35.75                                                                                                           \u001b[33m│\u001b[0m\n",
                            "\u001b[33m╰─────────────────────────────────────────────────────────────────────────────────────────────────────────────────╯\u001b[0m\n"
                        ]
                    },
                    "metadata": {},
                    "output_type": "display_data"
                },
                {
                    "data": {
                        "text/html": [
                            "<pre style=\"white-space:pre;overflow-x:auto;line-height:normal;font-family:Menlo,'DejaVu Sans Mono',consolas,'Courier New',monospace\"><span style=\"color: #c0c0c0; text-decoration-color: #c0c0c0\">╭───────────────────────────────────────────────────── 📝 AI ─────────────────────────────────────────────────────╮</span>\n",
                            "<span style=\"color: #c0c0c0; text-decoration-color: #c0c0c0\">│</span>                                                                                                                 <span style=\"color: #c0c0c0; text-decoration-color: #c0c0c0\">│</span>\n",
                            "<span style=\"color: #c0c0c0; text-decoration-color: #c0c0c0\">│</span>                                                                                                                 <span style=\"color: #c0c0c0; text-decoration-color: #c0c0c0\">│</span>\n",
                            "<span style=\"color: #c0c0c0; text-decoration-color: #c0c0c0\">│</span> 🔧 Tool Call: calculator_wstate                                                                                 <span style=\"color: #c0c0c0; text-decoration-color: #c0c0c0\">│</span>\n",
                            "<span style=\"color: #c0c0c0; text-decoration-color: #c0c0c0\">│</span>    Args: {                                                                                                      <span style=\"color: #c0c0c0; text-decoration-color: #c0c0c0\">│</span>\n",
                            "<span style=\"color: #c0c0c0; text-decoration-color: #c0c0c0\">│</span>   \"operation\": \"add\",                                                                                           <span style=\"color: #c0c0c0; text-decoration-color: #c0c0c0\">│</span>\n",
                            "<span style=\"color: #c0c0c0; text-decoration-color: #c0c0c0\">│</span>   \"a\": 13.02,                                                                                                   <span style=\"color: #c0c0c0; text-decoration-color: #c0c0c0\">│</span>\n",
                            "<span style=\"color: #c0c0c0; text-decoration-color: #c0c0c0\">│</span>   \"b\": 35.75                                                                                                    <span style=\"color: #c0c0c0; text-decoration-color: #c0c0c0\">│</span>\n",
                            "<span style=\"color: #c0c0c0; text-decoration-color: #c0c0c0\">│</span> }                                                                                                               <span style=\"color: #c0c0c0; text-decoration-color: #c0c0c0\">│</span>\n",
                            "<span style=\"color: #c0c0c0; text-decoration-color: #c0c0c0\">│</span>    ID: 22e56386-45af-4f67-980d-dfede66ba66b                                                                     <span style=\"color: #c0c0c0; text-decoration-color: #c0c0c0\">│</span>\n",
                            "<span style=\"color: #c0c0c0; text-decoration-color: #c0c0c0\">╰─────────────────────────────────────────────────────────────────────────────────────────────────────────────────╯</span>\n",
                            "</pre>\n"
                        ],
                        "text/plain": [
                            "\u001b[37m╭─\u001b[0m\u001b[37m────────────────────────────────────────────────────\u001b[0m\u001b[37m 📝 AI \u001b[0m\u001b[37m────────────────────────────────────────────────────\u001b[0m\u001b[37m─╮\u001b[0m\n",
                            "\u001b[37m│\u001b[0m                                                                                                                 \u001b[37m│\u001b[0m\n",
                            "\u001b[37m│\u001b[0m                                                                                                                 \u001b[37m│\u001b[0m\n",
                            "\u001b[37m│\u001b[0m 🔧 Tool Call: calculator_wstate                                                                                 \u001b[37m│\u001b[0m\n",
                            "\u001b[37m│\u001b[0m    Args: {                                                                                                      \u001b[37m│\u001b[0m\n",
                            "\u001b[37m│\u001b[0m   \"operation\": \"add\",                                                                                           \u001b[37m│\u001b[0m\n",
                            "\u001b[37m│\u001b[0m   \"a\": 13.02,                                                                                                   \u001b[37m│\u001b[0m\n",
                            "\u001b[37m│\u001b[0m   \"b\": 35.75                                                                                                    \u001b[37m│\u001b[0m\n",
                            "\u001b[37m│\u001b[0m }                                                                                                               \u001b[37m│\u001b[0m\n",
                            "\u001b[37m│\u001b[0m    ID: 22e56386-45af-4f67-980d-dfede66ba66b                                                                     \u001b[37m│\u001b[0m\n",
                            "\u001b[37m╰─────────────────────────────────────────────────────────────────────────────────────────────────────────────────╯\u001b[0m\n"
                        ]
                    },
                    "metadata": {},
                    "output_type": "display_data"
                },
                {
                    "data": {
                        "text/html": [
                            "<pre style=\"white-space:pre;overflow-x:auto;line-height:normal;font-family:Menlo,'DejaVu Sans Mono',consolas,'Courier New',monospace\"><span style=\"color: #808000; text-decoration-color: #808000\">╭──────────────────────────────────────────────── 🔧 Tool Output ─────────────────────────────────────────────────╮</span>\n",
                            "<span style=\"color: #808000; text-decoration-color: #808000\">│</span> 48.769999999999996                                                                                              <span style=\"color: #808000; text-decoration-color: #808000\">│</span>\n",
                            "<span style=\"color: #808000; text-decoration-color: #808000\">╰─────────────────────────────────────────────────────────────────────────────────────────────────────────────────╯</span>\n",
                            "</pre>\n"
                        ],
                        "text/plain": [
                            "\u001b[33m╭─\u001b[0m\u001b[33m───────────────────────────────────────────────\u001b[0m\u001b[33m 🔧 Tool Output \u001b[0m\u001b[33m────────────────────────────────────────────────\u001b[0m\u001b[33m─╮\u001b[0m\n",
                            "\u001b[33m│\u001b[0m 48.769999999999996                                                                                              \u001b[33m│\u001b[0m\n",
                            "\u001b[33m╰─────────────────────────────────────────────────────────────────────────────────────────────────────────────────╯\u001b[0m\n"
                        ]
                    },
                    "metadata": {},
                    "output_type": "display_data"
                },
                {
                    "data": {
                        "text/html": [
                            "<pre style=\"white-space:pre;overflow-x:auto;line-height:normal;font-family:Menlo,'DejaVu Sans Mono',consolas,'Courier New',monospace\"><span style=\"color: #c0c0c0; text-decoration-color: #c0c0c0\">╭───────────────────────────────────────────────────── 📝 AI ─────────────────────────────────────────────────────╮</span>\n",
                            "<span style=\"color: #c0c0c0; text-decoration-color: #c0c0c0\">│</span> The result is 48.77.                                                                                            <span style=\"color: #c0c0c0; text-decoration-color: #c0c0c0\">│</span>\n",
                            "<span style=\"color: #c0c0c0; text-decoration-color: #c0c0c0\">╰─────────────────────────────────────────────────────────────────────────────────────────────────────────────────╯</span>\n",
                            "</pre>\n"
                        ],
                        "text/plain": [
                            "\u001b[37m╭─\u001b[0m\u001b[37m────────────────────────────────────────────────────\u001b[0m\u001b[37m 📝 AI \u001b[0m\u001b[37m────────────────────────────────────────────────────\u001b[0m\u001b[37m─╮\u001b[0m\n",
                            "\u001b[37m│\u001b[0m The result is 48.77.                                                                                            \u001b[37m│\u001b[0m\n",
                            "\u001b[37m╰─────────────────────────────────────────────────────────────────────────────────────────────────────────────────╯\u001b[0m\n"
                        ]
                    },
                    "metadata": {},
                    "output_type": "display_data"
                }
            ],
            "source": [
                "# Example usage\n",
                "result3 = agent.invoke(\n",
                "\t{\n",
                "\t\t\"messages\": [\n",
                "\t\t\t{\n",
                "\t\t\t\t\"role\": \"user\",\n",
                "\t\t\t\t\"content\": \"What is 3.1 * 4.2 + 5.5 * 6.5?\",\n",
                "\t\t\t}\n",
                "\t\t],\n",
                "\t}\n",
                ")\n",
                "\n",
                "format_messages(result3[\"messages\"])"
            ]
        },
        {
            "cell_type": "code",
            "execution_count": 41,
            "id": "eddba925-7132-4972-94d2-33e21c15ed45",
            "metadata": {},
            "outputs": [
                {
                    "data": {
                        "application/json": {
                            "messages": [
                                [
                                    [
                                        "content",
                                        "What is 3.1 * 4.2 + 5.5 * 6.5?"
                                    ],
                                    [
                                        "additional_kwargs",
                                        {}
                                    ],
                                    [
                                        "response_metadata",
                                        {}
                                    ],
                                    [
                                        "type",
                                        "human"
                                    ],
                                    [
                                        "name",
                                        null
                                    ],
                                    [
                                        "id",
                                        "77568b70-cb58-48b8-ba77-675be49a6415"
                                    ],
                                    [
                                        "example",
                                        false
                                    ]
                                ],
                                [
                                    [
                                        "content",
                                        ""
                                    ],
                                    [
                                        "additional_kwargs",
                                        {
                                            "function_call": {
                                                "arguments": "{\"operation\": \"multiply\", \"a\": 3.1, \"b\": 4.2}",
                                                "name": "calculator_wstate"
                                            }
                                        }
                                    ],
                                    [
                                        "response_metadata",
                                        {
                                            "finish_reason": "STOP",
                                            "model_name": "gemini-2.5-flash",
                                            "prompt_feedback": {
                                                "block_reason": 0,
                                                "safety_ratings": []
                                            },
                                            "safety_ratings": []
                                        }
                                    ],
                                    [
                                        "type",
                                        "ai"
                                    ],
                                    [
                                        "name",
                                        null
                                    ],
                                    [
                                        "id",
                                        "run--53ab9c0a-03c1-4135-8304-dd7acac28efc-0"
                                    ],
                                    [
                                        "example",
                                        false
                                    ],
                                    [
                                        "tool_calls",
                                        [
                                            {
                                                "args": {
                                                    "a": 3.1,
                                                    "b": 4.2,
                                                    "operation": "multiply"
                                                },
                                                "id": "693e021f-4f83-48c4-a782-220c197ad0fe",
                                                "name": "calculator_wstate",
                                                "type": "tool_call"
                                            }
                                        ]
                                    ],
                                    [
                                        "invalid_tool_calls",
                                        []
                                    ],
                                    [
                                        "usage_metadata",
                                        {
                                            "input_token_details": {
                                                "cache_read": 0
                                            },
                                            "input_tokens": 263,
                                            "output_token_details": {
                                                "reasoning": 100
                                            },
                                            "output_tokens": 130,
                                            "total_tokens": 393
                                        }
                                    ]
                                ],
                                [
                                    [
                                        "content",
                                        "13.020000000000001"
                                    ],
                                    [
                                        "additional_kwargs",
                                        {}
                                    ],
                                    [
                                        "response_metadata",
                                        {}
                                    ],
                                    [
                                        "type",
                                        "tool"
                                    ],
                                    [
                                        "name",
                                        "calculator_wstate"
                                    ],
                                    [
                                        "id",
                                        "7419976a-8a0a-46c1-ae5a-b2acc40da5ba"
                                    ],
                                    [
                                        "tool_call_id",
                                        "693e021f-4f83-48c4-a782-220c197ad0fe"
                                    ],
                                    [
                                        "artifact",
                                        null
                                    ],
                                    [
                                        "status",
                                        "success"
                                    ]
                                ],
                                [
                                    [
                                        "content",
                                        ""
                                    ],
                                    [
                                        "additional_kwargs",
                                        {
                                            "function_call": {
                                                "arguments": "{\"operation\": \"multiply\", \"a\": 5.5, \"b\": 6.5}",
                                                "name": "calculator_wstate"
                                            }
                                        }
                                    ],
                                    [
                                        "response_metadata",
                                        {
                                            "finish_reason": "STOP",
                                            "model_name": "gemini-2.5-flash",
                                            "prompt_feedback": {
                                                "block_reason": 0,
                                                "safety_ratings": []
                                            },
                                            "safety_ratings": []
                                        }
                                    ],
                                    [
                                        "type",
                                        "ai"
                                    ],
                                    [
                                        "name",
                                        null
                                    ],
                                    [
                                        "id",
                                        "run--19348a70-c53b-4306-aa3a-c346b15fb779-0"
                                    ],
                                    [
                                        "example",
                                        false
                                    ],
                                    [
                                        "tool_calls",
                                        [
                                            {
                                                "args": {
                                                    "a": 5.5,
                                                    "b": 6.5,
                                                    "operation": "multiply"
                                                },
                                                "id": "0b29d3d3-57b9-4bbd-86d2-6bbfcbfa41d9",
                                                "name": "calculator_wstate",
                                                "type": "tool_call"
                                            }
                                        ]
                                    ],
                                    [
                                        "invalid_tool_calls",
                                        []
                                    ],
                                    [
                                        "usage_metadata",
                                        {
                                            "input_token_details": {
                                                "cache_read": 0
                                            },
                                            "input_tokens": 326,
                                            "output_token_details": {
                                                "reasoning": 88
                                            },
                                            "output_tokens": 118,
                                            "total_tokens": 444
                                        }
                                    ]
                                ],
                                [
                                    [
                                        "content",
                                        "35.75"
                                    ],
                                    [
                                        "additional_kwargs",
                                        {}
                                    ],
                                    [
                                        "response_metadata",
                                        {}
                                    ],
                                    [
                                        "type",
                                        "tool"
                                    ],
                                    [
                                        "name",
                                        "calculator_wstate"
                                    ],
                                    [
                                        "id",
                                        "0ebffa75-3a54-4fa3-bd5d-232997d6a331"
                                    ],
                                    [
                                        "tool_call_id",
                                        "0b29d3d3-57b9-4bbd-86d2-6bbfcbfa41d9"
                                    ],
                                    [
                                        "artifact",
                                        null
                                    ],
                                    [
                                        "status",
                                        "success"
                                    ]
                                ],
                                [
                                    [
                                        "content",
                                        ""
                                    ],
                                    [
                                        "additional_kwargs",
                                        {
                                            "function_call": {
                                                "arguments": "{\"operation\": \"add\", \"a\": 13.02, \"b\": 35.75}",
                                                "name": "calculator_wstate"
                                            }
                                        }
                                    ],
                                    [
                                        "response_metadata",
                                        {
                                            "finish_reason": "STOP",
                                            "model_name": "gemini-2.5-flash",
                                            "prompt_feedback": {
                                                "block_reason": 0,
                                                "safety_ratings": []
                                            },
                                            "safety_ratings": []
                                        }
                                    ],
                                    [
                                        "type",
                                        "ai"
                                    ],
                                    [
                                        "name",
                                        null
                                    ],
                                    [
                                        "id",
                                        "run--bc0c7d9d-24f1-41a2-95c6-4daf9689e99b-0"
                                    ],
                                    [
                                        "example",
                                        false
                                    ],
                                    [
                                        "tool_calls",
                                        [
                                            {
                                                "args": {
                                                    "a": 13.02,
                                                    "b": 35.75,
                                                    "operation": "add"
                                                },
                                                "id": "22e56386-45af-4f67-980d-dfede66ba66b",
                                                "name": "calculator_wstate",
                                                "type": "tool_call"
                                            }
                                        ]
                                    ],
                                    [
                                        "invalid_tool_calls",
                                        []
                                    ],
                                    [
                                        "usage_metadata",
                                        {
                                            "input_token_details": {
                                                "cache_read": 0
                                            },
                                            "input_tokens": 376,
                                            "output_token_details": {
                                                "reasoning": 104
                                            },
                                            "output_tokens": 138,
                                            "total_tokens": 514
                                        }
                                    ]
                                ],
                                [
                                    [
                                        "content",
                                        "48.769999999999996"
                                    ],
                                    [
                                        "additional_kwargs",
                                        {}
                                    ],
                                    [
                                        "response_metadata",
                                        {}
                                    ],
                                    [
                                        "type",
                                        "tool"
                                    ],
                                    [
                                        "name",
                                        "calculator_wstate"
                                    ],
                                    [
                                        "id",
                                        "f7670de5-fa2e-4dc2-8051-b55d20da9e6d"
                                    ],
                                    [
                                        "tool_call_id",
                                        "22e56386-45af-4f67-980d-dfede66ba66b"
                                    ],
                                    [
                                        "artifact",
                                        null
                                    ],
                                    [
                                        "status",
                                        "success"
                                    ]
                                ],
                                [
                                    [
                                        "content",
                                        "The result is 48.77."
                                    ],
                                    [
                                        "additional_kwargs",
                                        {}
                                    ],
                                    [
                                        "response_metadata",
                                        {
                                            "finish_reason": "STOP",
                                            "model_name": "gemini-2.5-flash",
                                            "prompt_feedback": {
                                                "block_reason": 0,
                                                "safety_ratings": []
                                            },
                                            "safety_ratings": []
                                        }
                                    ],
                                    [
                                        "type",
                                        "ai"
                                    ],
                                    [
                                        "name",
                                        null
                                    ],
                                    [
                                        "id",
                                        "run--b4f5fd3f-9a10-44c0-9f97-a8deedb2a3fb-0"
                                    ],
                                    [
                                        "example",
                                        false
                                    ],
                                    [
                                        "tool_calls",
                                        []
                                    ],
                                    [
                                        "invalid_tool_calls",
                                        []
                                    ],
                                    [
                                        "usage_metadata",
                                        {
                                            "input_token_details": {
                                                "cache_read": 0
                                            },
                                            "input_tokens": 443,
                                            "output_tokens": 10,
                                            "total_tokens": 453
                                        }
                                    ]
                                ]
                            ],
                            "ops": [
                                "(multiply, 3.1, 4.2),",
                                "(multiply, 5.5, 6.5),",
                                "(add, 13.02, 35.75),"
                            ]
                        },
                        "text/plain": [
                            "<IPython.core.display.JSON object>"
                        ]
                    },
                    "execution_count": 41,
                    "metadata": {
                        "application/json": {
                            "expanded": false,
                            "root": "root"
                        }
                    },
                    "output_type": "execute_result"
                }
            ],
            "source": [
                "JSON(result3)"
            ]
        },
        {
            "cell_type": "code",
            "execution_count": 42,
            "id": "f48168b8-54bb-4b72-a494-dccbdbf2c16a",
            "metadata": {},
            "outputs": [
                {
                    "data": {
                        "text/html": [
                            "<pre style=\"white-space:pre;overflow-x:auto;line-height:normal;font-family:Menlo,'DejaVu Sans Mono',consolas,'Courier New',monospace\"><span style=\"color: #000080; text-decoration-color: #000080\">╭─────────────────────────────────────────────────── 🧑 Human ────────────────────────────────────────────────────╮</span>\n",
                            "<span style=\"color: #000080; text-decoration-color: #000080\">│</span> Create an example of your own?                                                                                  <span style=\"color: #000080; text-decoration-color: #000080\">│</span>\n",
                            "<span style=\"color: #000080; text-decoration-color: #000080\">╰─────────────────────────────────────────────────────────────────────────────────────────────────────────────────╯</span>\n",
                            "</pre>\n"
                        ],
                        "text/plain": [
                            "\u001b[34m╭─\u001b[0m\u001b[34m──────────────────────────────────────────────────\u001b[0m\u001b[34m 🧑 Human \u001b[0m\u001b[34m───────────────────────────────────────────────────\u001b[0m\u001b[34m─╮\u001b[0m\n",
                            "\u001b[34m│\u001b[0m Create an example of your own?                                                                                  \u001b[34m│\u001b[0m\n",
                            "\u001b[34m╰─────────────────────────────────────────────────────────────────────────────────────────────────────────────────╯\u001b[0m\n"
                        ]
                    },
                    "metadata": {},
                    "output_type": "display_data"
                },
                {
                    "data": {
                        "text/html": [
                            "<pre style=\"white-space:pre;overflow-x:auto;line-height:normal;font-family:Menlo,'DejaVu Sans Mono',consolas,'Courier New',monospace\"><span style=\"color: #c0c0c0; text-decoration-color: #c0c0c0\">╭───────────────────────────────────────────────────── 📝 AI ─────────────────────────────────────────────────────╮</span>\n",
                            "<span style=\"color: #c0c0c0; text-decoration-color: #c0c0c0\">│</span>                                                                                                                 <span style=\"color: #c0c0c0; text-decoration-color: #c0c0c0\">│</span>\n",
                            "<span style=\"color: #c0c0c0; text-decoration-color: #c0c0c0\">│</span>                                                                                                                 <span style=\"color: #c0c0c0; text-decoration-color: #c0c0c0\">│</span>\n",
                            "<span style=\"color: #c0c0c0; text-decoration-color: #c0c0c0\">│</span> 🔧 Tool Call: calculator_wstate                                                                                 <span style=\"color: #c0c0c0; text-decoration-color: #c0c0c0\">│</span>\n",
                            "<span style=\"color: #c0c0c0; text-decoration-color: #c0c0c0\">│</span>    Args: {                                                                                                      <span style=\"color: #c0c0c0; text-decoration-color: #c0c0c0\">│</span>\n",
                            "<span style=\"color: #c0c0c0; text-decoration-color: #c0c0c0\">│</span>   \"operation\": \"add\",                                                                                           <span style=\"color: #c0c0c0; text-decoration-color: #c0c0c0\">│</span>\n",
                            "<span style=\"color: #c0c0c0; text-decoration-color: #c0c0c0\">│</span>   \"a\": 5,                                                                                                       <span style=\"color: #c0c0c0; text-decoration-color: #c0c0c0\">│</span>\n",
                            "<span style=\"color: #c0c0c0; text-decoration-color: #c0c0c0\">│</span>   \"b\": 3                                                                                                        <span style=\"color: #c0c0c0; text-decoration-color: #c0c0c0\">│</span>\n",
                            "<span style=\"color: #c0c0c0; text-decoration-color: #c0c0c0\">│</span> }                                                                                                               <span style=\"color: #c0c0c0; text-decoration-color: #c0c0c0\">│</span>\n",
                            "<span style=\"color: #c0c0c0; text-decoration-color: #c0c0c0\">│</span>    ID: ecbde64f-b25e-4edc-8dc7-7342a8aeaaa9                                                                     <span style=\"color: #c0c0c0; text-decoration-color: #c0c0c0\">│</span>\n",
                            "<span style=\"color: #c0c0c0; text-decoration-color: #c0c0c0\">╰─────────────────────────────────────────────────────────────────────────────────────────────────────────────────╯</span>\n",
                            "</pre>\n"
                        ],
                        "text/plain": [
                            "\u001b[37m╭─\u001b[0m\u001b[37m────────────────────────────────────────────────────\u001b[0m\u001b[37m 📝 AI \u001b[0m\u001b[37m────────────────────────────────────────────────────\u001b[0m\u001b[37m─╮\u001b[0m\n",
                            "\u001b[37m│\u001b[0m                                                                                                                 \u001b[37m│\u001b[0m\n",
                            "\u001b[37m│\u001b[0m                                                                                                                 \u001b[37m│\u001b[0m\n",
                            "\u001b[37m│\u001b[0m 🔧 Tool Call: calculator_wstate                                                                                 \u001b[37m│\u001b[0m\n",
                            "\u001b[37m│\u001b[0m    Args: {                                                                                                      \u001b[37m│\u001b[0m\n",
                            "\u001b[37m│\u001b[0m   \"operation\": \"add\",                                                                                           \u001b[37m│\u001b[0m\n",
                            "\u001b[37m│\u001b[0m   \"a\": 5,                                                                                                       \u001b[37m│\u001b[0m\n",
                            "\u001b[37m│\u001b[0m   \"b\": 3                                                                                                        \u001b[37m│\u001b[0m\n",
                            "\u001b[37m│\u001b[0m }                                                                                                               \u001b[37m│\u001b[0m\n",
                            "\u001b[37m│\u001b[0m    ID: ecbde64f-b25e-4edc-8dc7-7342a8aeaaa9                                                                     \u001b[37m│\u001b[0m\n",
                            "\u001b[37m╰─────────────────────────────────────────────────────────────────────────────────────────────────────────────────╯\u001b[0m\n"
                        ]
                    },
                    "metadata": {},
                    "output_type": "display_data"
                },
                {
                    "data": {
                        "text/html": [
                            "<pre style=\"white-space:pre;overflow-x:auto;line-height:normal;font-family:Menlo,'DejaVu Sans Mono',consolas,'Courier New',monospace\"><span style=\"color: #808000; text-decoration-color: #808000\">╭──────────────────────────────────────────────── 🔧 Tool Output ─────────────────────────────────────────────────╮</span>\n",
                            "<span style=\"color: #808000; text-decoration-color: #808000\">│</span> 8                                                                                                               <span style=\"color: #808000; text-decoration-color: #808000\">│</span>\n",
                            "<span style=\"color: #808000; text-decoration-color: #808000\">╰─────────────────────────────────────────────────────────────────────────────────────────────────────────────────╯</span>\n",
                            "</pre>\n"
                        ],
                        "text/plain": [
                            "\u001b[33m╭─\u001b[0m\u001b[33m───────────────────────────────────────────────\u001b[0m\u001b[33m 🔧 Tool Output \u001b[0m\u001b[33m────────────────────────────────────────────────\u001b[0m\u001b[33m─╮\u001b[0m\n",
                            "\u001b[33m│\u001b[0m 8                                                                                                               \u001b[33m│\u001b[0m\n",
                            "\u001b[33m╰─────────────────────────────────────────────────────────────────────────────────────────────────────────────────╯\u001b[0m\n"
                        ]
                    },
                    "metadata": {},
                    "output_type": "display_data"
                },
                {
                    "data": {
                        "text/html": [
                            "<pre style=\"white-space:pre;overflow-x:auto;line-height:normal;font-family:Menlo,'DejaVu Sans Mono',consolas,'Courier New',monospace\"><span style=\"color: #c0c0c0; text-decoration-color: #c0c0c0\">╭───────────────────────────────────────────────────── 📝 AI ─────────────────────────────────────────────────────╮</span>\n",
                            "<span style=\"color: #c0c0c0; text-decoration-color: #c0c0c0\">│</span> I added 5 and 3 to get 8.                                                                                       <span style=\"color: #c0c0c0; text-decoration-color: #c0c0c0\">│</span>\n",
                            "<span style=\"color: #c0c0c0; text-decoration-color: #c0c0c0\">╰─────────────────────────────────────────────────────────────────────────────────────────────────────────────────╯</span>\n",
                            "</pre>\n"
                        ],
                        "text/plain": [
                            "\u001b[37m╭─\u001b[0m\u001b[37m────────────────────────────────────────────────────\u001b[0m\u001b[37m 📝 AI \u001b[0m\u001b[37m────────────────────────────────────────────────────\u001b[0m\u001b[37m─╮\u001b[0m\n",
                            "\u001b[37m│\u001b[0m I added 5 and 3 to get 8.                                                                                       \u001b[37m│\u001b[0m\n",
                            "\u001b[37m╰─────────────────────────────────────────────────────────────────────────────────────────────────────────────────╯\u001b[0m\n"
                        ]
                    },
                    "metadata": {},
                    "output_type": "display_data"
                }
            ],
            "source": [
                "# Example usage - create your own\n",
                "result4 = agent.invoke(\n",
                "\t{\n",
                "\t\t\"messages\": [\n",
                "\t\t\t{\n",
                "\t\t\t\t\"role\": \"user\",\n",
                "\t\t\t\t\"content\": \"Create an example of your own?\",\n",
                "\t\t\t}\n",
                "\t\t],\n",
                "\t}\n",
                ")\n",
                "\n",
                "format_messages(result4[\"messages\"])"
            ]
        },
        {
            "cell_type": "markdown",
            "id": "9d93063f-9625-4667-b9d8-407b1103d4f9",
            "metadata": {},
            "source": [
                "## <span style=\"font-size:0.8em;\">🪝</span> 훅과 구조화된 응답"
            ]
        },
        {
            "cell_type": "markdown",
            "id": "234cce2b-7124-4933-8c34-9b5a409b4683",
            "metadata": {},
            "source": [
                "<table>\n",
                "<tr>\n",
                "<td style=\"width:300px;\">\n",
                "  <img src=\"./assets/complex_agent.png\" style=\"max-width:100%; height:auto;\">\n",
                "</td>\n",
                "<td>\n",
                "  <code>create_react_agent</code>는 많은 추가 기능이 있습니다.  \n",
                "  이 과정에서는 이들을 사용하지 않을 것이므로 여기서 설명만 하고 탐색은 다른 과정으로 남겨두겠습니다. \n",
                "\n",
                "  - 참고로 `create_react_agent` 호출 정의는 [여기](https://langchain-ai.github.io/langgraph/reference/agents/#:~:text=of%20the%20agent.-,create_react_agent,-%C2%B6)에 있습니다.\n",
                "\n",
                "  - 사전 훅(pre-hook): 에이전트 노드 이전에 노드를 삽입합니다. `state`에 접근할 수 있습니다. 이는 메시지를 요약하거나 압축하여 관리하는 데 자주 사용됩니다. 자세한 내용은 [여기](https://langchain-ai.github.io/langgraph/how-tos/create-react-agent-manage-message-history/#keep-the-original-message-history-unmodified:~:text=to%20the%20LLM.-,def%20pre_model_hook(state)%3A,-trimmed_messages%20%3D%20trim_messages)를 참조하세요.\n",
                "  - 사후 훅(post-hook): LLM 호출 이후, 도구 호출 이전에 노드를 삽입합니다. 이는 인간의 개입, 가드레일, 검증 또는 기타 후처리를 구현하는 데 유용합니다.\n",
                "  - response_format: `END` 이전에 노드를 추가합니다. 이는 LLM.with_structured_output을 호출하고 출력은 주어진 스키마와 일치하도록 형식화되어 'structured_response' 상태 키에 반환됩니다.\n",
                "</td>\n",
                "</tr>\n",
                "</table> \n",
                "\n",
                " "
            ]
        }
    ],
    "metadata": {
        "kernelspec": {
            "display_name": ".venv",
            "language": "python",
            "name": "python3"
        },
        "language_info": {
            "codemirror_mode": {
                "name": "ipython",
                "version": 3
            },
            "file_extension": ".py",
            "mimetype": "text/x-python",
            "name": "python",
            "nbconvert_exporter": "python",
            "pygments_lexer": "ipython3",
            "version": "3.13.5"
        }
    },
    "nbformat": 4,
    "nbformat_minor": 5
}
